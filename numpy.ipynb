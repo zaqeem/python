{
 "cells": [
  {
   "cell_type": "markdown",
   "id": "baa63c8a",
   "metadata": {},
   "source": [
    "# Creating Array"
   ]
  },
  {
   "cell_type": "code",
   "execution_count": 2,
   "id": "b689ee97",
   "metadata": {},
   "outputs": [
    {
     "name": "stdout",
     "output_type": "stream",
     "text": [
      "[1 2 3 4]   no of dimention is   1\n",
      "\n",
      " [[ 1  2  3  4]\n",
      " [ 5  6  7  8]\n",
      " [ 9 10 11 12]]   no of dimension is   2\n"
     ]
    }
   ],
   "source": [
    "import numpy as ar\n",
    "a=ar.array([1,2,3,4])\n",
    "print(a,\"  no of dimention is  \",a.ndim)\n",
    "b=ar.arange(1,13).reshape(3,4)\n",
    "print(\"\\n\",b,\"  no of dimension is  \",b.ndim)"
   ]
  },
  {
   "cell_type": "code",
   "execution_count": 2,
   "id": "4242439b",
   "metadata": {},
   "outputs": [
    {
     "name": "stdout",
     "output_type": "stream",
     "text": [
      "[[[1 2 4]\n",
      "  [1 2 3]\n",
      "  [5 4 3]]]\n"
     ]
    },
    {
     "data": {
      "text/plain": [
       "3"
      ]
     },
     "execution_count": 2,
     "metadata": {},
     "output_type": "execute_result"
    }
   ],
   "source": [
    "arr=ar.array([[[1,2,4],[1,2,3],[5,4,3]]])\n",
    "print(arr)\n",
    "arr.ndim"
   ]
  },
  {
   "cell_type": "code",
   "execution_count": 3,
   "id": "8cc4173f",
   "metadata": {},
   "outputs": [
    {
     "data": {
      "text/plain": [
       "(3, 2, 4)"
      ]
     },
     "execution_count": 3,
     "metadata": {},
     "output_type": "execute_result"
    }
   ],
   "source": [
    "arr=ar.arange(1,25).reshape(3,2,4)\n",
    "arr.shape"
   ]
  },
  {
   "cell_type": "code",
   "execution_count": 4,
   "id": "14b1a1e7",
   "metadata": {},
   "outputs": [
    {
     "name": "stdout",
     "output_type": "stream",
     "text": [
      "[1 2 3 4 5 6]\n"
     ]
    },
    {
     "data": {
      "text/plain": [
       "(2, 3)"
      ]
     },
     "execution_count": 4,
     "metadata": {},
     "output_type": "execute_result"
    }
   ],
   "source": [
    "a=ar.arange(1,7)\n",
    "print(a)\n",
    "b=a.reshape(2,3)\n",
    "b.shape\n"
   ]
  },
  {
   "cell_type": "code",
   "execution_count": 5,
   "id": "55ab6fa6",
   "metadata": {},
   "outputs": [
    {
     "data": {
      "text/plain": [
       "(1, 6)"
      ]
     },
     "execution_count": 5,
     "metadata": {},
     "output_type": "execute_result"
    }
   ],
   "source": [
    "ar.reshape(a, newshape=(1, 6), order='C').shape\n"
   ]
  },
  {
   "cell_type": "code",
   "execution_count": 6,
   "id": "3681242f",
   "metadata": {},
   "outputs": [
    {
     "data": {
      "text/plain": [
       "(6,)"
      ]
     },
     "execution_count": 6,
     "metadata": {},
     "output_type": "execute_result"
    }
   ],
   "source": [
    "a=ar.arange(6)\n",
    "a.shape"
   ]
  },
  {
   "cell_type": "code",
   "execution_count": 7,
   "id": "37f22b55",
   "metadata": {},
   "outputs": [
    {
     "name": "stdout",
     "output_type": "stream",
     "text": [
      "(1, 6)\n",
      "(6, 1)\n"
     ]
    }
   ],
   "source": [
    "b=a[ar.newaxis, :]\n",
    "print(b.shape)\n",
    "b=a[:,ar.newaxis]\n",
    "print(b.shape)\n"
   ]
  },
  {
   "cell_type": "code",
   "execution_count": 8,
   "id": "0b111225",
   "metadata": {},
   "outputs": [
    {
     "data": {
      "text/plain": [
       "(6,)"
      ]
     },
     "execution_count": 8,
     "metadata": {},
     "output_type": "execute_result"
    }
   ],
   "source": [
    "b=ar.array([1,2,3,8,8,8])\n",
    "b.shape"
   ]
  },
  {
   "cell_type": "code",
   "execution_count": 9,
   "id": "53adc7f5",
   "metadata": {},
   "outputs": [
    {
     "data": {
      "text/plain": [
       "2"
      ]
     },
     "execution_count": 9,
     "metadata": {},
     "output_type": "execute_result"
    }
   ],
   "source": [
    "a=ar.expand_dims(b,axis=1)\n",
    "a.ndim"
   ]
  },
  {
   "cell_type": "code",
   "execution_count": 10,
   "id": "8b68471e",
   "metadata": {},
   "outputs": [
    {
     "data": {
      "text/plain": [
       "array([33, 44, 43, 65])"
      ]
     },
     "execution_count": 10,
     "metadata": {},
     "output_type": "execute_result"
    }
   ],
   "source": [
    "a=ar.array([[[1,2,3,4],[22,33,44,22],[24,43,65,23]]])\n",
    "a[a>30]"
   ]
  },
  {
   "cell_type": "code",
   "execution_count": 11,
   "id": "e2772746",
   "metadata": {},
   "outputs": [
    {
     "data": {
      "text/plain": [
       "array([ 1,  2,  3,  4, 22, 22, 24, 23])"
      ]
     },
     "execution_count": 11,
     "metadata": {},
     "output_type": "execute_result"
    }
   ],
   "source": [
    "a[a<30]"
   ]
  },
  {
   "cell_type": "code",
   "execution_count": 12,
   "id": "4dbc5ef0",
   "metadata": {},
   "outputs": [
    {
     "data": {
      "text/plain": [
       "array([ 2,  4, 22, 44, 22, 24])"
      ]
     },
     "execution_count": 12,
     "metadata": {},
     "output_type": "execute_result"
    }
   ],
   "source": [
    "a[a%2==0]"
   ]
  },
  {
   "cell_type": "code",
   "execution_count": 13,
   "id": "04a8faeb",
   "metadata": {},
   "outputs": [
    {
     "name": "stdout",
     "output_type": "stream",
     "text": [
      "[33 24]\n"
     ]
    }
   ],
   "source": [
    "print(a[(a%3==0)&(a>20)])"
   ]
  },
  {
   "cell_type": "code",
   "execution_count": 14,
   "id": "00e2b008",
   "metadata": {},
   "outputs": [
    {
     "name": "stdout",
     "output_type": "stream",
     "text": [
      "[22 33 44 22 24 43 65 23]\n",
      "[22 33 44 22 24 43 65 23]\n"
     ]
    }
   ],
   "source": [
    "print(a[a>20])\n",
    "twenty_up=(a>20)\n",
    "print(a[twenty_up])"
   ]
  },
  {
   "cell_type": "code",
   "execution_count": 15,
   "id": "ddd93b3f",
   "metadata": {},
   "outputs": [
    {
     "name": "stdout",
     "output_type": "stream",
     "text": [
      "[[[False False False False]\n",
      "  [ True  True  True  True]\n",
      "  [ True  True  True  True]]]\n"
     ]
    }
   ],
   "source": [
    "five_up = (a > 5) | (a == 5)\n",
    "print(five_up)"
   ]
  },
  {
   "cell_type": "code",
   "execution_count": 16,
   "id": "8090dab0",
   "metadata": {},
   "outputs": [],
   "source": [
    "a = ar.array([[1, 2, 3, 4], [5, 6, 7, 8], [9, 10, 11, 12]])\n"
   ]
  },
  {
   "cell_type": "code",
   "execution_count": 17,
   "id": "c3621b6c",
   "metadata": {},
   "outputs": [
    {
     "name": "stdout",
     "output_type": "stream",
     "text": [
      "(array([0, 0, 0, 0], dtype=int64), array([0, 1, 2, 3], dtype=int64))\n"
     ]
    }
   ],
   "source": [
    "b=ar.nonzero(a<5)\n",
    "print(b)"
   ]
  },
  {
   "cell_type": "code",
   "execution_count": 18,
   "id": "c0364a33",
   "metadata": {},
   "outputs": [
    {
     "name": "stdout",
     "output_type": "stream",
     "text": [
      "(0, 0)\n",
      "(0, 1)\n",
      "(0, 2)\n",
      "(0, 3)\n",
      "[1 2 3 4]\n"
     ]
    }
   ],
   "source": [
    "cord=list(zip(b[0],b[1]))\n",
    "cord\n",
    "for i in cord:\n",
    "    print(i)\n",
    "print(a[b])    "
   ]
  },
  {
   "cell_type": "code",
   "execution_count": 19,
   "id": "2f3ff73c",
   "metadata": {},
   "outputs": [
    {
     "name": "stdout",
     "output_type": "stream",
     "text": [
      "[1 2 3 4 4 3 2 1] \n",
      "\n",
      " [[1 2 3 4]\n",
      " [4 3 2 1]]\n",
      "[array([1, 2]), array([3, 4]), array([4, 3]), array([2, 1])]\n",
      "[array([[1, 2, 3, 4]]), array([[4, 3, 2, 1]])]\n"
     ]
    }
   ],
   "source": [
    "a1=ar.array([1,2,3,4])\n",
    "a2=ar.array([4,3,2,1])\n",
    "b1=ar.hstack((a1,a2))\n",
    "b2=ar.vstack((a1,a2))\n",
    "print(b1,\"\\n\\n\",b2)\n",
    "bb=ar.hsplit(b1,4)\n",
    "print(bb)\n",
    "cc=ar.vsplit(b2,2)\n",
    "print(cc)"
   ]
  },
  {
   "cell_type": "code",
   "execution_count": 20,
   "id": "905eabac",
   "metadata": {},
   "outputs": [
    {
     "data": {
      "text/plain": [
       "array([[[0, 0, 0, 0, 0],\n",
       "        [1, 1, 1, 1, 1],\n",
       "        [2, 2, 2, 2, 2],\n",
       "        [3, 3, 3, 3, 3],\n",
       "        [4, 4, 4, 4, 4]],\n",
       "\n",
       "       [[0, 1, 2, 3, 4],\n",
       "        [0, 1, 2, 3, 4],\n",
       "        [0, 1, 2, 3, 4],\n",
       "        [0, 1, 2, 3, 4],\n",
       "        [0, 1, 2, 3, 4]]])"
      ]
     },
     "execution_count": 20,
     "metadata": {},
     "output_type": "execute_result"
    }
   ],
   "source": [
    "ar.indices((5,5))\n"
   ]
  },
  {
   "cell_type": "code",
   "execution_count": 21,
   "id": "33c03b3a",
   "metadata": {},
   "outputs": [],
   "source": [
    "a=ar.arange(12).reshape(3,4)\n",
    "ar.save(\"a.npy\",a)"
   ]
  },
  {
   "cell_type": "code",
   "execution_count": 22,
   "id": "c3e8a536",
   "metadata": {},
   "outputs": [
    {
     "data": {
      "text/plain": [
       "array([[ 0,  1,  2,  3],\n",
       "       [ 4,  5,  6,  7],\n",
       "       [ 8,  9, 10, 11]])"
      ]
     },
     "execution_count": 22,
     "metadata": {},
     "output_type": "execute_result"
    }
   ],
   "source": [
    "ar.load(\"a.npy\")"
   ]
  },
  {
   "cell_type": "code",
   "execution_count": 23,
   "id": "b7b134c2",
   "metadata": {},
   "outputs": [
    {
     "data": {
      "text/plain": [
       "array([[[[[[[[[[1, 3, 4]]]]]]]]]])"
      ]
     },
     "execution_count": 23,
     "metadata": {},
     "output_type": "execute_result"
    }
   ],
   "source": [
    "arr=ar.array([1,3,4],ndmin=10)\n",
    "arr"
   ]
  },
  {
   "cell_type": "markdown",
   "id": "fd8aa952",
   "metadata": {},
   "source": [
    "### Sigmoid"
   ]
  },
  {
   "cell_type": "code",
   "execution_count": 5,
   "id": "b28068b8",
   "metadata": {},
   "outputs": [
    {
     "data": {
      "text/plain": [
       "array([0.5       , 0.73105858, 0.88079708, 0.95257413, 0.98201379,\n",
       "       0.99330715, 0.99752738, 0.99908895, 0.99966465, 0.99987661,\n",
       "       0.9999546 , 0.9999833 , 0.99999386, 0.99999774, 0.99999917,\n",
       "       0.99999969, 0.99999989, 0.99999996, 0.99999998, 0.99999999,\n",
       "       1.        , 1.        , 1.        , 1.        , 1.        ,\n",
       "       1.        , 1.        , 1.        , 1.        , 1.        ,\n",
       "       1.        , 1.        , 1.        , 1.        , 1.        ,\n",
       "       1.        , 1.        , 1.        , 1.        , 1.        ,\n",
       "       1.        , 1.        , 1.        , 1.        , 1.        ,\n",
       "       1.        , 1.        , 1.        , 1.        , 1.        ,\n",
       "       1.        , 1.        , 1.        , 1.        , 1.        ,\n",
       "       1.        , 1.        , 1.        , 1.        , 1.        ,\n",
       "       1.        , 1.        , 1.        , 1.        , 1.        ,\n",
       "       1.        , 1.        , 1.        , 1.        , 1.        ,\n",
       "       1.        , 1.        , 1.        , 1.        , 1.        ,\n",
       "       1.        , 1.        , 1.        , 1.        , 1.        ,\n",
       "       1.        , 1.        , 1.        , 1.        , 1.        ,\n",
       "       1.        , 1.        , 1.        , 1.        , 1.        ,\n",
       "       1.        , 1.        , 1.        , 1.        , 1.        ,\n",
       "       1.        , 1.        , 1.        , 1.        , 1.        ])"
      ]
     },
     "execution_count": 5,
     "metadata": {},
     "output_type": "execute_result"
    }
   ],
   "source": [
    "import numpy as np\n",
    "def sigmoid(array):\n",
    "    return 1/(1+np.exp(-array))\n",
    "\n",
    "\n",
    "a=np.arange(100)\n",
    "sigmoid(a)"
   ]
  },
  {
   "cell_type": "markdown",
   "id": "5707d268",
   "metadata": {},
   "source": [
    "### Mean Squared Error"
   ]
  },
  {
   "cell_type": "code",
   "execution_count": 7,
   "id": "a61d23b0",
   "metadata": {},
   "outputs": [
    {
     "name": "stdout",
     "output_type": "stream",
     "text": [
      "actual [48 36  3 17 27 46 29  6 21 48 41 39  5 10  6 13  1 46 38  3 30 21 26 11\n",
      "  4]\n",
      "\n",
      "predicted [10 35 18 18 30 12 15  9 45 33 16  4 12 21 31 39 45 23  1 25 45 21 26  2\n",
      " 25]\n"
     ]
    }
   ],
   "source": [
    "actual = np.random.randint(1,50,25)\n",
    "predicted=np.random.randint(1,50,25)\n",
    "print(\"actual\",actual)\n",
    "print()\n",
    "print(\"predicted\",predicted)"
   ]
  },
  {
   "cell_type": "code",
   "execution_count": 11,
   "id": "3c871c55",
   "metadata": {},
   "outputs": [
    {
     "data": {
      "text/plain": [
       "0.31360000000000005"
      ]
     },
     "execution_count": 11,
     "metadata": {},
     "output_type": "execute_result"
    }
   ],
   "source": [
    "def msc(actual,predicted):\n",
    " return  np.mean((actual-predicted))**2\n",
    "msc(actual,predicted)"
   ]
  },
  {
   "cell_type": "markdown",
   "id": "2c45e0bd",
   "metadata": {},
   "source": [
    "### binary cross entropy"
   ]
  },
  {
   "cell_type": "code",
   "execution_count": 17,
   "id": "b68070c2",
   "metadata": {},
   "outputs": [
    {
     "name": "stdout",
     "output_type": "stream",
     "text": [
      "0.32344361995061255\n"
     ]
    }
   ],
   "source": [
    "def bce(ac,pr):\n",
    "    pr=np.clip(pr,1e-15,1-1e-15)\n",
    "    b_c_e=-np.mean(ac*np.log(pr)+(1-ac)*np.log(1-pr))\n",
    "    return b_c_e\n",
    "actual=np.array([0,1,1,0,1])\n",
    "predicted=np.array([0.1,0.7,0.9,0.5,0.7])\n",
    "loss=bce(actual,predicted)\n",
    "print(loss)"
   ]
  },
  {
   "cell_type": "markdown",
   "id": "8daa8db4",
   "metadata": {},
   "source": [
    "### ploting graph"
   ]
  },
  {
   "cell_type": "code",
   "execution_count": 20,
   "id": "992c7c17",
   "metadata": {},
   "outputs": [
    {
     "data": {
      "text/plain": [
       "[<matplotlib.lines.Line2D at 0x1cea8590a50>]"
      ]
     },
     "execution_count": 20,
     "metadata": {},
     "output_type": "execute_result"
    },
    {
     "data": {
      "image/png": "[encoded data removed]",
      "text/plain": [
       "<Figure size 640x480 with 1 Axes>"
      ]
     },
     "metadata": {},
     "output_type": "display_data"
    }
   ],
   "source": [
    "import matplotlib .pyplot as plt\n",
    "x=np.linspace(-10,10,100)\n",
    "y=x\n",
    "plt.plot(x,y)"
   ]
  },
  {
   "cell_type": "code",
   "execution_count": 21,
   "id": "b59aeebe",
   "metadata": {},
   "outputs": [
    {
     "data": {
      "text/plain": [
       "[<matplotlib.lines.Line2D at 0x1cea892af10>]"
      ]
     },
     "execution_count": 21,
     "metadata": {},
     "output_type": "execute_result"
    },
    {
     "data": {
      "image/png": "[encoded data removed]",
      "text/plain": [
       "<Figure size 640x480 with 1 Axes>"
      ]
     },
     "metadata": {},
     "output_type": "display_data"
    }
   ],
   "source": [
    "x=np.linspace(-10,10,100)\n",
    "y=x**2\n",
    "plt.plot(x,y)"
   ]
  },
  {
   "cell_type": "code",
   "execution_count": 22,
   "id": "8ae5f59f",
   "metadata": {},
   "outputs": [
    {
     "data": {
      "text/plain": [
       "[<matplotlib.lines.Line2D at 0x1cea79faf10>]"
      ]
     },
     "execution_count": 22,
     "metadata": {},
     "output_type": "execute_result"
    },
    {
     "data": {
      "image/png": "[encoded data removed]",
      "text/plain": [
       "<Figure size 640x480 with 1 Axes>"
      ]
     },
     "metadata": {},
     "output_type": "display_data"
    }
   ],
   "source": [
    "x=np.linspace(-10,10,100)\n",
    "y=np.sin(x)\n",
    "plt.plot(x,y)"
   ]
  },
  {
   "cell_type": "code",
   "execution_count": 24,
   "id": "b141d852",
   "metadata": {},
   "outputs": [
    {
     "name": "stderr",
     "output_type": "stream",
     "text": [
      "C:\\Users\\Shahid\\AppData\\Local\\Temp\\ipykernel_13736\\1310864822.py:2: RuntimeWarning: invalid value encountered in log\n",
      "  y=x*np.log(x)\n"
     ]
    },
    {
     "data": {
      "text/plain": [
       "[<matplotlib.lines.Line2D at 0x1cea8a117d0>]"
      ]
     },
     "execution_count": 24,
     "metadata": {},
     "output_type": "execute_result"
    },
    {
     "data": {
      "image/png": "[encoded data removed]",
      "text/plain": [
       "<Figure size 640x480 with 1 Axes>"
      ]
     },
     "metadata": {},
     "output_type": "display_data"
    }
   ],
   "source": [
    "x=np.linspace(-10,10,100)\n",
    "y=x*np.log(x)\n",
    "plt.plot(x,y)"
   ]
  },
  {
   "cell_type": "code",
   "execution_count": 27,
   "id": "31d5e2dd",
   "metadata": {},
   "outputs": [
    {
     "data": {
      "text/plain": [
       "[<matplotlib.lines.Line2D at 0x1ceaabbec90>]"
      ]
     },
     "execution_count": 27,
     "metadata": {},
     "output_type": "execute_result"
    },
    {
     "data": {
      "image/png": "[encoded data removed]",
      "text/plain": [
       "<Figure size 640x480 with 1 Axes>"
      ]
     },
     "metadata": {},
     "output_type": "display_data"
    }
   ],
   "source": [
    "x=np.linspace(-10,10,100)\n",
    "y=1/(1+np.exp(-x))\n",
    "plt.plot(x,y)"
   ]
  },
  {
   "cell_type": "markdown",
   "id": "b9a81a4f",
   "metadata": {},
   "source": [
    "# Zeros\n"
   ]
  },
  {
   "cell_type": "code",
   "execution_count": 24,
   "id": "29c47058",
   "metadata": {},
   "outputs": [
    {
     "name": "stdout",
     "output_type": "stream",
     "text": [
      "[[0. 0. 0.]\n",
      " [0. 0. 0.]]\n",
      "\n",
      "[[0. 0. 0. 0. 0. 0. 0. 0. 0.]\n",
      " [0. 0. 0. 0. 0. 0. 0. 0. 0.]\n",
      " [0. 0. 0. 0. 0. 0. 0. 0. 0.]\n",
      " [0. 0. 0. 0. 0. 0. 0. 0. 0.]\n",
      " [0. 0. 0. 0. 0. 0. 0. 0. 0.]\n",
      " [0. 0. 0. 0. 0. 0. 0. 0. 0.]\n",
      " [0. 0. 0. 0. 0. 0. 0. 0. 0.]\n",
      " [0. 0. 0. 0. 0. 0. 0. 0. 0.]]\n"
     ]
    }
   ],
   "source": [
    "a=ar.zeros((2,3))\n",
    "print(a)\n",
    "print()\n",
    "b=ar.zeros((8,9))\n",
    "print(b)"
   ]
  },
  {
   "cell_type": "code",
   "execution_count": 25,
   "id": "c7b604fe",
   "metadata": {},
   "outputs": [
    {
     "data": {
      "text/plain": [
       "array([[1, 1, 1, 1],\n",
       "       [1, 1, 1, 1],\n",
       "       [1, 1, 1, 1]])"
      ]
     },
     "execution_count": 25,
     "metadata": {},
     "output_type": "execute_result"
    }
   ],
   "source": [
    "a=ar.ones((3,4),dtype=int)\n",
    "a"
   ]
  },
  {
   "cell_type": "code",
   "execution_count": 26,
   "id": "c9e4f5cc",
   "metadata": {},
   "outputs": [
    {
     "data": {
      "text/plain": [
       "array([[14, 15, 16, 17, 18, 19, 20],\n",
       "       [21, 22, 23, 24, 25, 26, 27],\n",
       "       [28, 29, 30, 31, 32, 33, 34]])"
      ]
     },
     "execution_count": 26,
     "metadata": {},
     "output_type": "execute_result"
    }
   ],
   "source": [
    "x = ar.arange(35).reshape(5, 7)\n",
    "b = x > 13\n",
    "x[b[:,6]]\n"
   ]
  },
  {
   "cell_type": "code",
   "execution_count": 27,
   "id": "fddb382c",
   "metadata": {},
   "outputs": [
    {
     "data": {
      "text/plain": [
       "(6,)"
      ]
     },
     "execution_count": 27,
     "metadata": {},
     "output_type": "execute_result"
    }
   ],
   "source": [
    "a = ar.array([1, 2, 3, 4, 5, 6])\n",
    "a[0:ar.newaxis]\n",
    "a.shape\n",
    "\n"
   ]
  },
  {
   "cell_type": "markdown",
   "id": "f720f9d1",
   "metadata": {},
   "source": [
    "# Sorting"
   ]
  },
  {
   "cell_type": "code",
   "execution_count": 28,
   "id": "51b87f36",
   "metadata": {},
   "outputs": [
    {
     "name": "stdout",
     "output_type": "stream",
     "text": [
      "[[ 2  3  5 30 43]\n",
      " [ 1  4  6  7  9]\n",
      " [ 8 11 12 21 44]\n",
      " [10 13 14 15 53]]\n",
      "\n",
      "[(1, 1), (2, 5), (3, 3), (4, 6)]\n"
     ]
    }
   ],
   "source": [
    "a=ar.array([2,30,3,43,5,1,9,4,7,6,11,8,44,21,12,53,13,10,15,14]).reshape(4,5)\n",
    "print(ar.sort(a,axis=1))\n",
    "print()\n",
    "\n",
    "\n",
    "a=ar.array([4,1,2,3])\n",
    "b=ar.array([6,1,5,3])\n",
    "c=ar.lexsort((b,a))\n",
    "print([(a[i],b[i]) for i in c])\n"
   ]
  },
  {
   "cell_type": "markdown",
   "id": "f3688e30",
   "metadata": {},
   "source": [
    "# concatenating"
   ]
  },
  {
   "cell_type": "code",
   "execution_count": 29,
   "id": "43f7ea45",
   "metadata": {},
   "outputs": [
    {
     "data": {
      "text/plain": [
       "array([[ 1,  2,  3,  4, 13, 14, 15, 16],\n",
       "       [ 5,  6,  7,  8, 17, 18, 19, 20],\n",
       "       [ 9, 10, 11, 12, 21, 22, 23, 24]])"
      ]
     },
     "execution_count": 29,
     "metadata": {},
     "output_type": "execute_result"
    }
   ],
   "source": [
    "a=ar.arange(1,13).reshape(3,4)\n",
    "b=ar.arange(13,25).reshape(3,4)\n",
    "s=ar.concatenate((a,b),axis=1)\n",
    "s"
   ]
  },
  {
   "cell_type": "markdown",
   "id": "4057b4f8",
   "metadata": {},
   "source": [
    "# Converting 1D to 2D and 3D"
   ]
  },
  {
   "cell_type": "code",
   "execution_count": 29,
   "id": "2cd1ff64",
   "metadata": {},
   "outputs": [
    {
     "name": "stdout",
     "output_type": "stream",
     "text": [
      "(6,)\n",
      "\n",
      "[1 2 3 4 5 6]\n",
      "\n",
      "(1, 6)\n",
      "\n",
      "[[1 2 3 4 5 6]]\n"
     ]
    },
    {
     "data": {
      "text/plain": [
       "array([[[1, 2, 3, 4, 5, 6]]])"
      ]
     },
     "execution_count": 29,
     "metadata": {},
     "output_type": "execute_result"
    }
   ],
   "source": [
    "a=ar.arange(1,7)\n",
    "print(a.shape)\n",
    "print()\n",
    "print(a)\n",
    "print()\n",
    "print(a[ar.newaxis,:].shape)\n",
    "print()\n",
    "print(a[ar.newaxis,:])\n",
    "s=a[ar.newaxis,:]\n",
    "s[ar.newaxis,:]"
   ]
  },
  {
   "cell_type": "markdown",
   "id": "3c965187",
   "metadata": {},
   "source": [
    "### EXpanding dimEntion"
   ]
  },
  {
   "cell_type": "code",
   "execution_count": 32,
   "id": "5897adbb",
   "metadata": {},
   "outputs": [
    {
     "data": {
      "text/plain": [
       "(1, 6)"
      ]
     },
     "execution_count": 32,
     "metadata": {},
     "output_type": "execute_result"
    }
   ],
   "source": [
    "np.expand_dims(a,axis=0).shape"
   ]
  },
  {
   "cell_type": "markdown",
   "id": "ab9830e2",
   "metadata": {},
   "source": [
    "# Non Zero"
   ]
  },
  {
   "cell_type": "code",
   "execution_count": 31,
   "id": "fb3bad2c",
   "metadata": {},
   "outputs": [
    {
     "name": "stdout",
     "output_type": "stream",
     "text": [
      "[ 1  2  3  4  5  6  7  8  9 10 11 12]\n"
     ]
    }
   ],
   "source": [
    "a = ar.array([[1, 2, 3, 4], [5, 6, 7, 8], [9, 10, 11, 12]])\n",
    "ar.nonzero(a)\n",
    "print(a[ar.nonzero(a)])"
   ]
  },
  {
   "cell_type": "markdown",
   "id": "a70ff1b7",
   "metadata": {},
   "source": [
    "# converting array into tuple"
   ]
  },
  {
   "cell_type": "code",
   "execution_count": 32,
   "id": "0a78ab06",
   "metadata": {},
   "outputs": [
    {
     "name": "stdout",
     "output_type": "stream",
     "text": [
      "[1 2 3]\n",
      "\n",
      "[5 6 7]\n",
      "\n",
      "(1, 5)\n",
      "(2, 6)\n",
      "(3, 7)\n"
     ]
    }
   ],
   "source": [
    "a=ar.arange(1,4)\n",
    "b=ar.arange(5,8)\n",
    "print(a)\n",
    "print()\n",
    "print(b)\n",
    "print()\n",
    "c=list(zip(a,b))\n",
    "for i in c:\n",
    "    print(i)"
   ]
  },
  {
   "cell_type": "markdown",
   "id": "9fe4e91a",
   "metadata": {},
   "source": [
    "# Stacking"
   ]
  },
  {
   "cell_type": "code",
   "execution_count": 33,
   "id": "e9fc4b54",
   "metadata": {},
   "outputs": [
    {
     "name": "stdout",
     "output_type": "stream",
     "text": [
      "[[ 1  2  3  4]\n",
      " [ 5  6  7  8]\n",
      " [ 9 10 11 12]\n",
      " [13 14 15 16]\n",
      " [17 18 19 20]\n",
      " [21 22 23 24]]\n",
      "\n",
      "[[ 1  2  3  4 13 14 15 16]\n",
      " [ 5  6  7  8 17 18 19 20]\n",
      " [ 9 10 11 12 21 22 23 24]]\n"
     ]
    }
   ],
   "source": [
    "a=ar.arange(1,13).reshape(3,4)\n",
    "b=ar.arange(13,25).reshape(3,4)\n",
    "print(ar.vstack((a,b)))\n",
    "print()\n",
    "print(ar.hstack((a,b)))"
   ]
  },
  {
   "cell_type": "markdown",
   "id": "ed193c7d",
   "metadata": {},
   "source": [
    "# Spliting"
   ]
  },
  {
   "cell_type": "code",
   "execution_count": 34,
   "id": "195e955b",
   "metadata": {},
   "outputs": [
    {
     "data": {
      "text/plain": [
       "[array([[ 1,  2],\n",
       "        [ 5,  6],\n",
       "        [ 9, 10]]),\n",
       " array([[ 3,  4],\n",
       "        [ 7,  8],\n",
       "        [11, 12]])]"
      ]
     },
     "execution_count": 34,
     "metadata": {},
     "output_type": "execute_result"
    }
   ],
   "source": [
    "ar.hsplit(a,2)\n"
   ]
  },
  {
   "cell_type": "markdown",
   "id": "e04bede0",
   "metadata": {},
   "source": [
    "# Sum"
   ]
  },
  {
   "cell_type": "code",
   "execution_count": 35,
   "id": "5f279613",
   "metadata": {},
   "outputs": [
    {
     "name": "stdout",
     "output_type": "stream",
     "text": [
      "78\n",
      "\n"
     ]
    },
    {
     "data": {
      "text/plain": [
       "300"
      ]
     },
     "execution_count": 35,
     "metadata": {},
     "output_type": "execute_result"
    }
   ],
   "source": [
    "a=ar.arange(1,13)\n",
    "print(ar.sum(a))\n",
    "print()\n",
    "b=ar.arange(13,25)\n",
    "ar.sum([a,b])\n"
   ]
  },
  {
   "cell_type": "markdown",
   "id": "0d36cdf7",
   "metadata": {},
   "source": [
    "# Unique"
   ]
  },
  {
   "cell_type": "code",
   "execution_count": 36,
   "id": "ed9a034c",
   "metadata": {},
   "outputs": [
    {
     "name": "stdout",
     "output_type": "stream",
     "text": [
      "(array([ 1,  2,  3,  4,  5, 22, 33, 35, 43]), array([ 0,  1,  2,  5,  7, 11,  9,  8, 14], dtype=int64))\n"
     ]
    }
   ],
   "source": [
    "a=ar.array([1,2,3,2,1,4,2,5,35,33,5,22,3,1,43])\n",
    "print(ar.unique(a,return_index=True))"
   ]
  },
  {
   "cell_type": "markdown",
   "id": "bb8e8117",
   "metadata": {},
   "source": [
    "# Reversing"
   ]
  },
  {
   "cell_type": "code",
   "execution_count": 37,
   "id": "d16ecab7",
   "metadata": {},
   "outputs": [
    {
     "name": "stdout",
     "output_type": "stream",
     "text": [
      "[13 12 11 10  9  8  7  6  5  4  3  2  1]\n",
      "\n",
      "[[ 1  2  3  4  5  6]\n",
      " [ 7  8  9 10 11 12]\n",
      " [13 14 15 16 17 18]\n",
      " [19 20 21 22 23 24]]\n",
      "\n",
      "[[24 23 22 21 20 19]\n",
      " [18 17 16 15 14 13]\n",
      " [12 11 10  9  8  7]\n",
      " [ 6  5  4  3  2  1]]\n",
      "(4, 6)\n",
      "\n",
      "[[[ 1  2  3  4  5  6]\n",
      "  [ 7  8  9 10 11 12]\n",
      "  [13 14 15 16 17 18]\n",
      "  [19 20 21 22 23 24]]]\n"
     ]
    },
    {
     "data": {
      "text/plain": [
       "array([[[24, 23, 22, 21, 20, 19],\n",
       "        [18, 17, 16, 15, 14, 13],\n",
       "        [12, 11, 10,  9,  8,  7],\n",
       "        [ 6,  5,  4,  3,  2,  1]]])"
      ]
     },
     "execution_count": 37,
     "metadata": {},
     "output_type": "execute_result"
    }
   ],
   "source": [
    "a=ar.arange(1,14)\n",
    "print(ar.flip(a))\n",
    "print()\n",
    "b=ar.arange(1,25).reshape(4,6)\n",
    "print(b)\n",
    "print()\n",
    "print(ar.flip(b))\n",
    "print(b.shape)\n",
    "c=b[ar.newaxis,:]\n",
    "print()\n",
    "print(c)\n",
    "ar.flip(c)"
   ]
  },
  {
   "cell_type": "markdown",
   "id": "411b1b57",
   "metadata": {},
   "source": [
    "# Tranposing"
   ]
  },
  {
   "cell_type": "code",
   "execution_count": 38,
   "id": "5ea3d40b",
   "metadata": {},
   "outputs": [
    {
     "name": "stdout",
     "output_type": "stream",
     "text": [
      "[[ 0  1  2  3]\n",
      " [ 4  5  6  7]\n",
      " [ 8  9 10 11]]\n",
      "\n",
      "[[ 0  4  8]\n",
      " [ 1  5  9]\n",
      " [ 2  6 10]\n",
      " [ 3  7 11]]\n",
      "\n",
      "[[[ 0  1  2]\n",
      "  [ 3  4  5]\n",
      "  [ 6  7  8]]\n",
      "\n",
      " [[ 9 10 11]\n",
      "  [12 13 14]\n",
      "  [15 16 17]]]\n",
      "\n",
      "[[[ 0  9]\n",
      "  [ 3 12]\n",
      "  [ 6 15]]\n",
      "\n",
      " [[ 1 10]\n",
      "  [ 4 13]\n",
      "  [ 7 16]]\n",
      "\n",
      " [[ 2 11]\n",
      "  [ 5 14]\n",
      "  [ 8 17]]]\n"
     ]
    }
   ],
   "source": [
    "a=ar.arange(12).reshape(3,4)\n",
    "print(a)\n",
    "print()\n",
    "print(a.T)\n",
    "a=ar.arange(18).reshape(2,3,3)\n",
    "print()\n",
    "print(a)\n",
    "print()\n",
    "print(a.T)"
   ]
  },
  {
   "cell_type": "code",
   "execution_count": 39,
   "id": "2ad30338",
   "metadata": {},
   "outputs": [
    {
     "data": {
      "text/plain": [
       "array([12, 11, 10,  9,  8,  7])"
      ]
     },
     "execution_count": 39,
     "metadata": {},
     "output_type": "execute_result"
    }
   ],
   "source": [
    "ar.flip(c[0,1])\n"
   ]
  },
  {
   "cell_type": "markdown",
   "id": "4331a5ca",
   "metadata": {},
   "source": [
    "# flattening"
   ]
  },
  {
   "cell_type": "code",
   "execution_count": 6,
   "id": "0cd5789a",
   "metadata": {},
   "outputs": [
    {
     "data": {
      "text/plain": [
       "array([ 1,  2,  3,  4,  5,  6,  7,  8,  9, 10, 11, 12, 13, 14, 15, 16, 17,\n",
       "       18, 19, 20, 21, 22, 23, 24])"
      ]
     },
     "execution_count": 6,
     "metadata": {},
     "output_type": "execute_result"
    }
   ],
   "source": [
    "a=ar.arange(1,25).reshape(4,6)\n",
    "a.flatten()"
   ]
  },
  {
   "cell_type": "markdown",
   "id": "eaf41b67",
   "metadata": {},
   "source": [
    "# Random"
   ]
  },
  {
   "cell_type": "code",
   "execution_count": 41,
   "id": "6e475a9f",
   "metadata": {},
   "outputs": [
    {
     "data": {
      "text/plain": [
       "array([7, 2, 7, 8, 7], dtype=int64)"
      ]
     },
     "execution_count": 41,
     "metadata": {},
     "output_type": "execute_result"
    }
   ],
   "source": [
    "a=ar.random.default_rng()\n",
    "a.integers(low=0,high=10,size=5)"
   ]
  },
  {
   "cell_type": "code",
   "execution_count": 42,
   "id": "9c546bbd",
   "metadata": {},
   "outputs": [
    {
     "name": "stdout",
     "output_type": "stream",
     "text": [
      "[[1. 0. 0. 0. 0.]\n",
      " [0. 1. 0. 0. 0.]\n",
      " [0. 0. 1. 0. 0.]\n",
      " [0. 0. 0. 1. 0.]\n",
      " [0. 0. 0. 0. 1.]]\n",
      "\n",
      "[[0 0 1 0 0]\n",
      " [0 0 0 2 0]\n",
      " [0 0 0 0 3]\n",
      " [0 0 0 0 0]\n",
      " [0 0 0 0 0]]\n"
     ]
    }
   ],
   "source": [
    "print(ar.eye(5))\n",
    "print()\n",
    "print(ar.diag([1,2,3],2))\n"
   ]
  },
  {
   "cell_type": "code",
   "execution_count": 43,
   "id": "1bcb8f1c",
   "metadata": {},
   "outputs": [
    {
     "name": "stdout",
     "output_type": "stream",
     "text": [
      "[[0 1 2 3 4]\n",
      " [1 2 3 4 5]\n",
      " [2 3 4 5 6]\n",
      " [3 4 5 6 7]\n",
      " [4 5 6 7 8]]\n"
     ]
    }
   ],
   "source": [
    "x = ar.arange(5)\n",
    "row=x[ar.newaxis,:]\n",
    "col=x[:,ar.newaxis]\n",
    "print(row+col)"
   ]
  },
  {
   "cell_type": "code",
   "execution_count": 44,
   "id": "d83ea2ac",
   "metadata": {},
   "outputs": [
    {
     "data": {
      "text/plain": [
       "array([[ 3,  5],\n",
       "       [ 9, 11]])"
      ]
     },
     "execution_count": 44,
     "metadata": {},
     "output_type": "execute_result"
    }
   ],
   "source": [
    "x = ar.array([[ 0,  1,  2],\n",
    "              [ 3,  4,  5],\n",
    "              [ 6,  7,  8],\n",
    "              [ 9, 10, 11]])\n",
    "row=ar.array([[1,1],[3,3]])\n",
    "col=ar.array([[0,2],[0,2]])\n",
    "x[row,col]"
   ]
  },
  {
   "cell_type": "code",
   "execution_count": 45,
   "id": "bdb026bd",
   "metadata": {},
   "outputs": [
    {
     "data": {
      "text/plain": [
       "array([False, False, False,  True,  True])"
      ]
     },
     "execution_count": 45,
     "metadata": {},
     "output_type": "execute_result"
    }
   ],
   "source": [
    "x = ar.arange(35).reshape(5, 7)\n",
    "b=x>20\n",
    "b[:,5]"
   ]
  },
  {
   "cell_type": "code",
   "execution_count": 46,
   "id": "ecfc0982",
   "metadata": {},
   "outputs": [
    {
     "data": {
      "text/plain": [
       "array([1, 2, 4])"
      ]
     },
     "execution_count": 46,
     "metadata": {},
     "output_type": "execute_result"
    }
   ],
   "source": [
    "x = ar.array([[0, 1], [1, 1], [2, 2]])\n",
    "x.sum(-1)"
   ]
  },
  {
   "cell_type": "code",
   "execution_count": 47,
   "id": "ba691884",
   "metadata": {},
   "outputs": [
    {
     "data": {
      "text/plain": [
       "array([[ 3,  4,  5],\n",
       "       [ 9, 10, 11]])"
      ]
     },
     "execution_count": 47,
     "metadata": {},
     "output_type": "execute_result"
    }
   ],
   "source": [
    "x = ar.array([[ 0,  1,  2],\n",
    "              [ 3,  4,  5],\n",
    "              [ 6,  7,  8],\n",
    "              [ 9, 10, 11]])\n",
    "x[x.sum(-1) % 2 == 0]\n"
   ]
  },
  {
   "cell_type": "markdown",
   "id": "664f5d7c",
   "metadata": {},
   "source": [
    "# Broadcasting"
   ]
  },
  {
   "cell_type": "code",
   "execution_count": 48,
   "id": "a23ce21f",
   "metadata": {},
   "outputs": [
    {
     "data": {
      "text/plain": [
       "array([[5, 5, 3],\n",
       "       [2, 5, 6]])"
      ]
     },
     "execution_count": 48,
     "metadata": {},
     "output_type": "execute_result"
    }
   ],
   "source": [
    "a=ar.array([1,2,1])\n",
    "b=ar.array([[4,3,2],[1,3,5]])\n",
    "a+b"
   ]
  },
  {
   "cell_type": "code",
   "execution_count": 49,
   "id": "3a320aeb",
   "metadata": {},
   "outputs": [
    {
     "data": {
      "text/plain": [
       "array([[4.24399158e-314, 8.48798317e-314, 1.27319747e-313,\n",
       "        1.69759663e-313],\n",
       "       [2.12199579e-313, 2.54639495e-313, 2.97079411e-313,\n",
       "        3.39519327e-313],\n",
       "       [3.81959242e-313, 4.24399158e-313, 4.66839074e-313,\n",
       "        5.09278990e-313]])"
      ]
     },
     "execution_count": 49,
     "metadata": {},
     "output_type": "execute_result"
    }
   ],
   "source": [
    "a=ar.empty((3,4))\n",
    "a"
   ]
  },
  {
   "cell_type": "markdown",
   "id": "4254d5dc",
   "metadata": {},
   "source": [
    "### where"
   ]
  },
  {
   "cell_type": "code",
   "execution_count": 35,
   "id": "e341ae87",
   "metadata": {},
   "outputs": [
    {
     "data": {
      "text/plain": [
       "(array([45, 46, 47, 48], dtype=int64),)"
      ]
     },
     "execution_count": 35,
     "metadata": {},
     "output_type": "execute_result"
    }
   ],
   "source": [
    "a=np.arange(1,50)\n",
    "np.where(a>45)"
   ]
  },
  {
   "cell_type": "code",
   "execution_count": 36,
   "id": "01847044",
   "metadata": {},
   "outputs": [
    {
     "data": {
      "text/plain": [
       "array([ 1,  2,  3,  4,  5,  6,  7,  8,  9, 10, 11, 12, 13, 14, 15, 16, 17,\n",
       "       18, 19, 20, 21, 22, 23, 24, 25, 26, 27, 28, 29, 30, 31, 32, 33, 34,\n",
       "       35, 36, 37, 38, 39, 40, 41, 42, 43, 44, 45, 46, 47,  0,  0])"
      ]
     },
     "execution_count": 36,
     "metadata": {},
     "output_type": "execute_result"
    }
   ],
   "source": [
    "replace_0=np.where(a>47,0,a)\n",
    "replace_0\n"
   ]
  },
  {
   "cell_type": "code",
   "execution_count": 37,
   "id": "41b90a6e",
   "metadata": {},
   "outputs": [
    {
     "data": {
      "text/plain": [
       "array([ 1,  0,  3,  0,  5,  0,  7,  0,  9,  0, 11,  0, 13,  0, 15,  0, 17,\n",
       "        0, 19,  0, 21,  0, 23,  0, 25,  0, 27,  0, 29,  0, 31,  0, 33,  0,\n",
       "       35,  0, 37,  0, 39,  0, 41,  0, 43,  0, 45,  0, 47,  0, 49])"
      ]
     },
     "execution_count": 37,
     "metadata": {},
     "output_type": "execute_result"
    }
   ],
   "source": [
    "replace_even_0=np.where(a%2==0,0,a)\n",
    "replace_even_0"
   ]
  },
  {
   "cell_type": "code",
   "execution_count": 38,
   "id": "c1cae6d3",
   "metadata": {},
   "outputs": [
    {
     "data": {
      "text/plain": [
       "array([   1,    3,    6,   10,   15,   21,   28,   36,   45,   55,   66,\n",
       "         78,   91,  105,  120,  136,  153,  171,  190,  210,  231,  253,\n",
       "        276,  300,  325,  351,  378,  406,  435,  465,  496,  528,  561,\n",
       "        595,  630,  666,  703,  741,  780,  820,  861,  903,  946,  990,\n",
       "       1035, 1081, 1128, 1176, 1225])"
      ]
     },
     "execution_count": 38,
     "metadata": {},
     "output_type": "execute_result"
    }
   ],
   "source": [
    "np.cumsum(a)"
   ]
  },
  {
   "cell_type": "code",
   "execution_count": 40,
   "id": "c235eb09",
   "metadata": {},
   "outputs": [
    {
     "data": {
      "text/plain": [
       "49.0"
      ]
     },
     "execution_count": 40,
     "metadata": {},
     "output_type": "execute_result"
    }
   ],
   "source": [
    "np.percentile(a,100)"
   ]
  },
  {
   "cell_type": "code",
   "execution_count": 42,
   "id": "cd776388",
   "metadata": {},
   "outputs": [
    {
     "data": {
      "text/plain": [
       "(array([65,  4], dtype=int64), array([   0,   50, 1000]))"
      ]
     },
     "execution_count": 42,
     "metadata": {},
     "output_type": "execute_result"
    }
   ],
   "source": [
    "a=np.array([1,2,3,4,1,5,2,6,3,6,2,51,3,5,1,512,5,2,4,2,5,7,8,3,1,3,21,1,1,3,1,4,1,4,1,3,1,2,5,2,5,63,5,3,6,33,655,4,4,4,3,3,3,3,35,5,5,6,1,7,7,8,1,8,7,5,4,3,3])\n",
    "np.histogram(a,bins=[0,50,1000])"
   ]
  },
  {
   "cell_type": "markdown",
   "id": "05bccbd0",
   "metadata": {},
   "source": [
    "### corrcoef"
   ]
  },
  {
   "cell_type": "code",
   "execution_count": 5,
   "id": "9e5f6dc5",
   "metadata": {},
   "outputs": [
    {
     "data": {
      "text/plain": [
       "array([[1.        , 0.33871455],\n",
       "       [0.33871455, 1.        ]])"
      ]
     },
     "execution_count": 5,
     "metadata": {},
     "output_type": "execute_result"
    }
   ],
   "source": [
    "import numpy as np\n",
    "salary=np.array([4000,40000,20000,450000,600000])\n",
    "exp=np.array([1,4,2,6,2])\n",
    "np.corrcoef(salary,exp)"
   ]
  },
  {
   "cell_type": "markdown",
   "id": "20fb8543",
   "metadata": {},
   "source": []
  },
  {
   "cell_type": "code",
   "execution_count": 8,
   "id": "0f95b760",
   "metadata": {},
   "outputs": [
    {
     "name": "stdout",
     "output_type": "stream",
     "text": [
      "[[ 1  2  3  4  5  6]\n",
      " [ 7  8  9 10 11 12]\n",
      " [13 14 15 16 17 18]\n",
      " [19 20 21 22 23 24]]\n",
      "\n"
     ]
    },
    {
     "data": {
      "text/plain": [
       "array([[24, 23, 22, 21, 20, 19],\n",
       "       [18, 17, 16, 15, 14, 13],\n",
       "       [12, 11, 10,  9,  8,  7],\n",
       "       [ 6,  5,  4,  3,  2,  1]])"
      ]
     },
     "execution_count": 8,
     "metadata": {},
     "output_type": "execute_result"
    }
   ],
   "source": [
    "print(a)\n",
    "print()\n",
    "np.flip(a)"
   ]
  },
  {
   "cell_type": "code",
   "execution_count": 9,
   "id": "dede9230",
   "metadata": {},
   "outputs": [
    {
     "data": {
      "text/plain": [
       "array([ 1,  2,  4,  5,  6,  8,  9, 11, 12, 13, 14, 15, 16, 17, 18, 19, 20,\n",
       "       21, 22, 23, 24])"
      ]
     },
     "execution_count": 9,
     "metadata": {},
     "output_type": "execute_result"
    }
   ],
   "source": [
    "np.delete(a,[2,6,9])"
   ]
  },
  {
   "cell_type": "markdown",
   "id": "aaf81e1e",
   "metadata": {},
   "source": [
    "# Dimensional indexing tools"
   ]
  },
  {
   "cell_type": "code",
   "execution_count": 44,
   "id": "806d5794",
   "metadata": {},
   "outputs": [
    {
     "name": "stdout",
     "output_type": "stream",
     "text": [
      "[[[ 0  1  2  3  4  5]\n",
      "  [ 6  7  8  9 10 11]\n",
      "  [12 13 14 15 16 17]]\n",
      "\n",
      " [[18 19 20 21 22 23]\n",
      "  [24 25 26 27 28 29]\n",
      "  [30 31 32 33 34 35]]]\n",
      "[[ 0  1  2  3  4  5]\n",
      " [ 6  7  8  9 10 11]\n",
      " [12 13 14 15 16 17]]\n",
      "\n",
      "[[ 0  6 12]\n",
      " [18 24 30]]\n",
      "\n",
      "[[[[ 0  1  2  3  4  5]\n",
      "   [ 6  7  8  9 10 11]\n",
      "   [12 13 14 15 16 17]]]\n",
      "\n",
      "\n",
      " [[[18 19 20 21 22 23]\n",
      "   [24 25 26 27 28 29]\n",
      "   [30 31 32 33 34 35]]]]\n",
      "\n",
      "(2, 1, 3, 6)\n",
      "\n",
      "[[[[ 0  1  2  3  4  5]\n",
      "   [ 6  7  8  9 10 11]\n",
      "   [12 13 14 15 16 17]]\n",
      "\n",
      "  [[18 19 20 21 22 23]\n",
      "   [24 25 26 27 28 29]\n",
      "   [30 31 32 33 34 35]]]]\n",
      "\n",
      "(1, 2, 3, 6)\n"
     ]
    }
   ],
   "source": [
    "x=ar.arange(36).reshape(2,3,6)\n",
    "print(x)\n",
    "print(x[0,Ellipsis])\n",
    "print()\n",
    "print(x[:, :,0])\n",
    "print()\n",
    "print(x[:, ar.newaxis, :,:])\n",
    "print()\n",
    "print(x[:, ar.newaxis, :,:].shape)\n",
    "print()\n",
    "print(x[ar.newaxis,:, :,:])\n",
    "print()\n",
    "print(x[ar.newaxis,:,:].shape)"
   ]
  },
  {
   "cell_type": "code",
   "execution_count": null,
   "id": "63a7bae3",
   "metadata": {},
   "outputs": [],
   "source": [
    "x=ar.arange(5)\n",
    "print(x[:,ar.newaxis]+x[ar.newaxis,:])\n",
    "print()\n"
   ]
  },
  {
   "cell_type": "markdown",
   "id": "4cdb1807",
   "metadata": {},
   "source": [
    "# Advance indexing"
   ]
  },
  {
   "cell_type": "code",
   "execution_count": null,
   "id": "f9e8d4a3",
   "metadata": {},
   "outputs": [],
   "source": [
    "x=ar.arange(25).reshape(5,5)\n",
    "print(x)\n",
    "print()\n",
    "row=ar.array([[1,1],[3,3]])\n",
    "col=ar.array([[1,-1],[1,-1]])\n",
    "print(x[row,col])\n"
   ]
  },
  {
   "cell_type": "code",
   "execution_count": null,
   "id": "e19433cf",
   "metadata": {},
   "outputs": [],
   "source": []
  },
  {
   "cell_type": "markdown",
   "id": "195ca6cf",
   "metadata": {},
   "source": [
    "# Boolen indexing"
   ]
  },
  {
   "cell_type": "code",
   "execution_count": 53,
   "id": "785cad7d",
   "metadata": {},
   "outputs": [
    {
     "name": "stdout",
     "output_type": "stream",
     "text": [
      "[[21 22 23 -1]\n",
      " [24 23 25 22]]\n",
      "\n",
      "[[ 0  1  2  3  4  5  6]\n",
      " [ 7  8  9 10 11 12 13]\n",
      " [14 15 16 17 18 19 20]\n",
      " [21 22 23 24 25 26 27]\n",
      " [28 29 30 31 32 33 34]]\n",
      "\n",
      "[[False False False False False False False]\n",
      " [False False False False False False False]\n",
      " [False False False False False False False]\n",
      " [ True  True  True  True  True  True  True]\n",
      " [ True  True  True  True  True  True  True]]\n",
      "[False False False  True  True]\n",
      "\n",
      "[21 22 23 24 25 26 27 28 29 30 31 32 33 34]\n"
     ]
    }
   ],
   "source": [
    "x=ar.array([[1,2,3,-1],[4,3,5,2]])\n",
    "x[x>0]+=20\n",
    "print(x)\n",
    "print()\n",
    "y=ar.arange(35).reshape(5,7)\n",
    "b=y>20\n",
    "print(y)\n",
    "print()\n",
    "print(b)\n",
    "print(b[:,5])\n",
    "print()\n",
    "print(y[b])\n"
   ]
  },
  {
   "cell_type": "code",
   "execution_count": null,
   "id": "23ff14d8",
   "metadata": {},
   "outputs": [],
   "source": [
    "s=ar.arange(16).reshape(4,4)\n",
    "print(s)\n",
    "row=[False,True,False,True]\n",
    "col=[0,2]\n",
    "s[ar.ix_(row,col)]"
   ]
  },
  {
   "cell_type": "code",
   "execution_count": null,
   "id": "f77cd568",
   "metadata": {},
   "outputs": [],
   "source": [
    "print(x[::2,1:3])\n",
    "print()\n",
    "print(x[ar.array([0,2,4]),1:3])\n",
    "print()\n",
    "print(x[:,1:3][ar.array([0,2,4]),:])\n",
    "print()\n",
    "y=ar.arange(12).reshape(3,4)\n",
    "print(y[1:2,[1,3]])\n",
    "print()\n",
    "print(y[1:2,1:3])"
   ]
  },
  {
   "cell_type": "code",
   "execution_count": null,
   "id": "90c15f41",
   "metadata": {},
   "outputs": [],
   "source": [
    "x=ar.arange(35).reshape(5,7)\n",
    "y=x>20\n",
    "x[y[:,5],1:3]\n",
    "x = ar.arange(0, 50, 10)\n",
    "x[ar.array([1,1,3,2])]+=1\n",
    "x"
   ]
  },
  {
   "cell_type": "markdown",
   "id": "fd442d41",
   "metadata": {},
   "source": [
    "# Dealing with variable numbers of indices within programs\n"
   ]
  },
  {
   "cell_type": "code",
   "execution_count": null,
   "id": "a6bf0a6d",
   "metadata": {},
   "outputs": [],
   "source": [
    "z = ar.arange(81).reshape(3, 3, 3, 3)\n",
    "print(z)\n",
    "indicies=(1,1,1,slice(0,3))\n",
    "print(z[indicies])\n"
   ]
  },
  {
   "cell_type": "code",
   "execution_count": null,
   "id": "7d9142ee",
   "metadata": {},
   "outputs": [],
   "source": [
    "indicies=(1,Ellipsis,1)\n",
    "z[indicies]\"\""
   ]
  },
  {
   "cell_type": "markdown",
   "id": "33082d3d",
   "metadata": {},
   "source": [
    "# Importing data with genfromtxt"
   ]
  },
  {
   "cell_type": "code",
   "execution_count": null,
   "id": "a881d264",
   "metadata": {},
   "outputs": [],
   "source": [
    "from io import StringIO\n",
    "data=u\"2232,32,34,4.1,3,33,'ch'\"\n",
    "\n",
    "ar.genfromtxt(StringIO(data), delimiter=\",\",dtype=object)"
   ]
  },
  {
   "cell_type": "code",
   "execution_count": null,
   "id": "fc4b020c",
   "metadata": {},
   "outputs": [],
   "source": [
    "s=ar.arange"
   ]
  },
  {
   "cell_type": "code",
   "execution_count": 3,
   "id": "ff166fcc",
   "metadata": {},
   "outputs": [
    {
     "data": {
      "text/plain": [
       "[<matplotlib.lines.Line2D at 0x296570df670>]"
      ]
     },
     "execution_count": 3,
     "metadata": {},
     "output_type": "execute_result"
    },
    {
     "data": {
      "image/png": "[encoded data removed]",
      "text/plain": [
       "<Figure size 640x480 with 1 Axes>"
      ]
     },
     "metadata": {},
     "output_type": "display_data"
    }
   ],
   "source": [
    "import matplotlib.pyplot as pit\n",
    "x=ar.arange(10)\n",
    "y=x\n",
    "pit.plot(x,y)"
   ]
  },
  {
   "cell_type": "code",
   "execution_count": 15,
   "id": "6844b3cd",
   "metadata": {},
   "outputs": [
    {
     "data": {
      "image/png": "[encoded data removed]",
      "text/plain": [
       "<Figure size 640x480 with 1 Axes>"
      ]
     },
     "metadata": {},
     "output_type": "display_data"
    }
   ],
   "source": [
    "a=ar.arange(200)\n",
    "b=a**2\n",
    "pit.plot(a,b)\n",
    "pit.show()"
   ]
  },
  {
   "cell_type": "code",
   "execution_count": null,
   "id": "ce935858",
   "metadata": {},
   "outputs": [],
   "source": []
  }
 ],
 "metadata": {
  "kernelspec": {
   "display_name": "Python 3 (ipykernel)",
   "language": "python",
   "name": "python3"
  },
  "language_info": {
   "codemirror_mode": {
    "name": "ipython",
    "version": 3
   },
   "file_extension": ".py",
   "mimetype": "text/x-python",
   "name": "python",
   "nbconvert_exporter": "python",
   "pygments_lexer": "ipython3",
   "version": "3.11.5"
  }
 },
 "nbformat": 4,
 "nbformat_minor": 5
}
