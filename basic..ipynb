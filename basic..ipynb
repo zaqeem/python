{
 "cells": [
  {
   "cell_type": "markdown",
   "id": "51b6eb18",
   "metadata": {},
   "source": [
    "write a program that input salary and grade.add 50% bonus if grade is greater than 15 and add 25% bonus when grade is 15 or less than to 15 "
   ]
  },
  {
   "cell_type": "code",
   "execution_count": 2,
   "id": "2ea98574",
   "metadata": {},
   "outputs": [],
   "source": [
    "salary=int(input(\"enter your salary   \"))\n",
    "grade=int(input(\"enter your grade  \"))\n",
    "salary+=(salary*50)/100 if grade>15 else (salary*25)/100  "
   ]
  },
  {
   "cell_type": "code",
   "execution_count": 4,
   "id": "2e0e8cb7",
   "metadata": {},
   "outputs": [
    {
     "data": {
      "text/plain": [
       "62500.0"
      ]
     },
     "execution_count": 4,
     "metadata": {},
     "output_type": "execute_result"
    }
   ],
   "source": [
    "salary"
   ]
  },
  {
   "cell_type": "markdown",
   "id": "bf8538a3",
   "metadata": {},
   "source": [
    "write a program that calculate electricity bill."
   ]
  },
  {
   "cell_type": "code",
   "execution_count": 5,
   "id": "1ef2039d",
   "metadata": {},
   "outputs": [],
   "source": [
    "units=int(input(\"Enter units comsumed  \"))\n",
    "if units>500:\n",
    "    bill=units*7\n",
    "elif units>300:\n",
    "    bill=units*5\n",
    "else:\n",
    "    bill=units*2\n",
    "    bill=bill+150\n",
    "    if units>2000:\n",
    "        bill+=(bill*5)/5\n",
    "       "
   ]
  },
  {
   "cell_type": "code",
   "execution_count": 6,
   "id": "633faaf6",
   "metadata": {},
   "outputs": [
    {
     "data": {
      "text/plain": [
       "28000"
      ]
     },
     "execution_count": 6,
     "metadata": {},
     "output_type": "execute_result"
    }
   ],
   "source": [
    "bill"
   ]
  },
  {
   "cell_type": "markdown",
   "id": "c9286aa9",
   "metadata": {},
   "source": [
    "write a program that print number in any range with their sum\n"
   ]
  },
  {
   "cell_type": "code",
   "execution_count": 7,
   "id": "0dffa9ad",
   "metadata": {},
   "outputs": [
    {
     "name": "stdout",
     "output_type": "stream",
     "text": [
      "a=  1\n",
      "a=  2\n",
      "a=  3\n",
      "a=  4\n",
      "sum is   10\n"
     ]
    }
   ],
   "source": [
    "a=1\n",
    "sum=0\n",
    "while a in range(1,5):\n",
    "    print(\"a= \",a)\n",
    "    sum=sum+a\n",
    "    a+=1\n",
    "\n",
    "print(\"sum is  \",sum)\n",
    "    \n",
    "    "
   ]
  },
  {
   "cell_type": "code",
   "execution_count": 8,
   "id": "d45600a4",
   "metadata": {},
   "outputs": [
    {
     "name": "stdout",
     "output_type": "stream",
     "text": [
      "DataScienceMentorshipProgramByCampusX\n",
      "\n"
     ]
    }
   ],
   "source": [
    "print(\"Data\" \"Science\" \"Mentorship\" \"Program\",sep=\"-\",end='')\n",
    "print(\"By\" \"CampusX\",sep='-')\n",
    "print()"
   ]
  },
  {
   "cell_type": "code",
   "execution_count": 9,
   "id": "cc19810b",
   "metadata": {},
   "outputs": [
    {
     "name": "stdout",
     "output_type": "stream",
     "text": [
      "Fahrenheit is   86.0\n"
     ]
    }
   ],
   "source": [
    "celsius=int(input(\"enter value of celsius  to convert into fahrenheit  \"))\n",
    "print(\"Fahrenheit is  \",((celsius*9/5) + 32))"
   ]
  },
  {
   "cell_type": "code",
   "execution_count": 10,
   "id": "9af1f2d4",
   "metadata": {},
   "outputs": [
    {
     "name": "stdout",
     "output_type": "stream",
     "text": [
      "before swipping   3 2\n",
      "after swipping   2 3\n"
     ]
    }
   ],
   "source": [
    "first=int(input(\"enter 1st value  \"))\n",
    "second=int(input(\"enter 2nd value  \"))\n",
    "print(\"before swipping  \",first,second)\n",
    "loc=first\n",
    "first=second\n",
    "second=loc\n",
    "print(\"after swipping  \",first,second)"
   ]
  },
  {
   "cell_type": "code",
   "execution_count": 11,
   "id": "114735ff",
   "metadata": {},
   "outputs": [
    {
     "name": "stdout",
     "output_type": "stream",
     "text": [
      "i=  1\n",
      "i=  2\n",
      "i=  3\n",
      "i=  4\n",
      "i=  5\n",
      "sum of sequare is=   55\n"
     ]
    }
   ],
   "source": [
    "sum=0\n",
    "n=int(input(\"enter natural number  \"))\n",
    "i=1\n",
    "while i<=n:\n",
    "    print(\"i= \",i)\n",
    "    sum+=i*i\n",
    "    i+=1\n",
    "print(\"sum of sequare is=  \",sum)    "
   ]
  },
  {
   "cell_type": "code",
   "execution_count": 12,
   "id": "2afd2c63",
   "metadata": {},
   "outputs": [
    {
     "name": "stdout",
     "output_type": "stream",
     "text": [
      "Number of chickens: 2\n",
      "Number of dogs: 0\n"
     ]
    }
   ],
   "source": [
    "# Get input from the user\n",
    "total_heads = int(input(\"Enter the total number of heads: \"))\n",
    "total_legs = int(input(\"Enter the total number of legs: \"))\n",
    "\n",
    "# Calculate the number of chickens and dogs\n",
    "# Assuming that each dog has 4 legs and each chicken has 2 legs\n",
    "# Let x be the number of chickens and y be the number of dogs\n",
    "# The equations are: x + y = total_heads and 2x + 4y = total_legs\n",
    "# Solve these equations to find the values of x and y\n",
    "\n",
    "# Calculate the number of chickens (x)\n",
    "chickens = (4 * total_heads - total_legs) // 2\n",
    "\n",
    "# Calculate the number of dogs (y)\n",
    "dogs = total_heads - chickens\n",
    "\n",
    "# Display the results\n",
    "print(\"Number of chickens:\", chickens)\n",
    "print(\"Number of dogs:\", dogs)\n"
   ]
  },
  {
   "cell_type": "code",
   "execution_count": null,
   "id": "9d659179",
   "metadata": {},
   "outputs": [],
   "source": []
  },
  {
   "cell_type": "code",
   "execution_count": 13,
   "id": "4a7ccd1c",
   "metadata": {},
   "outputs": [
    {
     "name": "stdout",
     "output_type": "stream",
     "text": [
      "profit\n"
     ]
    }
   ],
   "source": [
    "price_of_meat=int(input(\"enter the price of meat\"))\n",
    "sell_price_of_meat=int(input(\"enter the selling price of meat\"))\n",
    "if price_of_meat>sell_price_of_meat:\n",
    "    print(\"Lost\")\n",
    "else:\n",
    "    print(\"profit\")"
   ]
  },
  {
   "cell_type": "code",
   "execution_count": 14,
   "id": "2a2eb5ac",
   "metadata": {},
   "outputs": [
    {
     "name": "stdout",
     "output_type": "stream",
     "text": [
      "the factorial of 5 is 120\n"
     ]
    }
   ],
   "source": [
    "a=1\n",
    "f=1\n",
    "n=int(input(\"enter number  \"))\n",
    "while a<=n:\n",
    "    f=f*a\n",
    "    a+=1\n",
    "print(\"the factorial of {} is {}\".format(n,f))    "
   ]
  },
  {
   "cell_type": "code",
   "execution_count": 15,
   "id": "29652f66",
   "metadata": {},
   "outputs": [
    {
     "name": "stdout",
     "output_type": "stream",
     "text": [
      "result is  3.249602669164711\n"
     ]
    }
   ],
   "source": [
    "c=2\n",
    "a=1\n",
    "while c<=100:\n",
    "    a=a+1/c\n",
    "    c+=2\n",
    "print(\"result is \",a)    "
   ]
  },
  {
   "cell_type": "code",
   "execution_count": 16,
   "id": "3f09c632",
   "metadata": {},
   "outputs": [
    {
     "name": "stdout",
     "output_type": "stream",
     "text": [
      "the sum of even number is   1260 \n",
      "the sum of odd number is  1225\n"
     ]
    }
   ],
   "source": [
    "i=1\n",
    "even=0\n",
    "odd=0\n",
    "n=int(input(\"enter any number \"))\n",
    "while i<=n:\n",
    "    if i%2==0:\n",
    "     even+=i\n",
    "    else:\n",
    "        odd+=i\n",
    "    i+=1     \n",
    "print(\"the sum of even number is  \",even,\"\\nthe sum of odd number is \",odd)        "
   ]
  },
  {
   "cell_type": "code",
   "execution_count": 17,
   "id": "8c0d9e7b",
   "metadata": {},
   "outputs": [
    {
     "name": "stdout",
     "output_type": "stream",
     "text": [
      "The total number is 8\n",
      "The average is 8.25\n",
      "The max value is 40 and min value is 2\n"
     ]
    }
   ],
   "source": [
    "sum = 0\n",
    "count = 0\n",
    "max_vs_min = []\n",
    "\n",
    "n = int(input(\"Enter a positive number: \")) \n",
    "while n >= 0:\n",
    "    sum += n\n",
    "    count += 1\n",
    "    max_vs_min.append(n)\n",
    "    n = int(input(\"Enter a positive number: \")) \n",
    "\n",
    "if count > 0:\n",
    "    avg = sum / count\n",
    "    print(f\"The total number is {count}\")\n",
    "    print(f\"The average is {avg}\")\n",
    "    print(f\"The max value is {max(max_vs_min)} and min value is {min(max_vs_min)}\")\n",
    "else:\n",
    "    print(\"No positive numbers were entered.\")\n"
   ]
  },
  {
   "cell_type": "code",
   "execution_count": 18,
   "id": "a51d3a45",
   "metadata": {},
   "outputs": [
    {
     "name": "stdout",
     "output_type": "stream",
     "text": [
      "The sentence has 1 word(s) and 3 character(s).\n",
      "The sentence has 2 word(s) and 11 character(s).\n"
     ]
    }
   ],
   "source": [
    "while True:\n",
    "    sentence = input(\"Enter a sentence (or 'quit' to exit): \")\n",
    "    if sentence.lower() == 'quit':\n",
    "        break\n",
    "    words = sentence.split()\n",
    "    num_words = len(words)\n",
    "    num_chars = len(sentence)\n",
    "    print(f\"The sentence has {num_words} word(s) and {num_chars} character(s).\")\n"
   ]
  },
  {
   "cell_type": "code",
   "execution_count": 19,
   "id": "ab6ee2e9",
   "metadata": {},
   "outputs": [
    {
     "name": "stdout",
     "output_type": "stream",
     "text": [
      "0 1 1 2 3 "
     ]
    }
   ],
   "source": [
    "a, b = 0, 1\n",
    "n=int(input(\"enter a number \"))\n",
    "while a < n:\n",
    "    print(a, end=' ')\n",
    "    a, b = b, a+b\n",
    "    \n"
   ]
  },
  {
   "cell_type": "code",
   "execution_count": 20,
   "id": "ec9838c1",
   "metadata": {},
   "outputs": [
    {
     "name": "stdout",
     "output_type": "stream",
     "text": [
      " no it is not Fibonacci sequence.\n"
     ]
    }
   ],
   "source": [
    "a, b = 0, 1\n",
    "num = int(input(\"Enter a number: \"))\n",
    "\n",
    "while b < num:\n",
    "    a, b = b, a + b\n",
    "if b == num:\n",
    "    print(  \"yes it is Fibonacci sequence.\")\n",
    "else:\n",
    "    print(  \" no it is not Fibonacci sequence.\")\n"
   ]
  },
  {
   "cell_type": "code",
   "execution_count": 21,
   "id": "84c1c70f",
   "metadata": {},
   "outputs": [
    {
     "name": "stdout",
     "output_type": "stream",
     "text": [
      "len of hello how are how is 17\n"
     ]
    }
   ],
   "source": [
    "string=input(\"enter string  \")\n",
    "counter=0\n",
    "for i in string:\n",
    "    counter+=1\n",
    "    \n",
    "print(f\"len of {string} is {counter}\")    "
   ]
  },
  {
   "cell_type": "code",
   "execution_count": 22,
   "id": "aadbaabe",
   "metadata": {},
   "outputs": [
    {
     "name": "stdout",
     "output_type": "stream",
     "text": [
      "muhammadzaqeem\n"
     ]
    }
   ],
   "source": [
    "str=input(\"enter your email \")\n",
    "strs=str[:str.find('@')]\n",
    "print(strs)"
   ]
  },
  {
   "cell_type": "code",
   "execution_count": 23,
   "id": "df864918",
   "metadata": {},
   "outputs": [
    {
     "name": "stdout",
     "output_type": "stream",
     "text": [
      "yes it is pallandrom \n"
     ]
    }
   ],
   "source": [
    "stg=input(\"enter string \")\n",
    "\n",
    "if stg==stg[::-1]:\n",
    "    print(\"yes it is pallandrom \")\n",
    "else:\n",
    "    print(\"no it is not\")"
   ]
  },
  {
   "cell_type": "code",
   "execution_count": 24,
   "id": "3f560551",
   "metadata": {},
   "outputs": [
    {
     "name": "stdout",
     "output_type": "stream",
     "text": [
      "pogamme\n"
     ]
    }
   ],
   "source": [
    "string=input(\"enter string \")\n",
    "remove=input(\"what would you like to remove \")\n",
    "res=''\n",
    "for i in string:\n",
    "    if i != remove:\n",
    "        res+=i\n",
    "print(res)   "
   ]
  },
  {
   "cell_type": "code",
   "execution_count": 25,
   "id": "25ed8954",
   "metadata": {},
   "outputs": [
    {
     "name": "stdout",
     "output_type": "stream",
     "text": [
      "7\n"
     ]
    }
   ],
   "source": [
    "string=input(\"enter string \")\n",
    "loc=input(\"what would you like to find \")\n",
    "ind=-1\n",
    "for i in string:\n",
    "    if i != loc:\n",
    "        ind+=1\n",
    "print(ind)    "
   ]
  },
  {
   "cell_type": "code",
   "execution_count": 26,
   "id": "68f3f2d9",
   "metadata": {},
   "outputs": [
    {
     "name": "stdout",
     "output_type": "stream",
     "text": [
      "[[1, 5], [2, 6], [3, 7], [4, 8]]\n"
     ]
    }
   ],
   "source": [
    "list1 = [1, 2, 3, 4]\n",
    "list2 = [5, 6, 7, 8]\n",
    "\n",
    "# Use zip to combine elements from list1 and list2\n",
    "result = [list(pair) for pair in zip(list1, list2)]\n",
    "\n",
    "print(result)\n"
   ]
  },
  {
   "cell_type": "code",
   "execution_count": 27,
   "id": "52c2448e",
   "metadata": {},
   "outputs": [
    {
     "name": "stdout",
     "output_type": "stream",
     "text": [
      "[10, 20, [300, 400, [5000, 6000, 700], 500], 30, 40]\n"
     ]
    }
   ],
   "source": [
    "list1 = [10, 20, [300, 400, [5000, 6000], 500], 30, 40]\n",
    "list1[2][2].insert(2,700)\n",
    "print(list1)"
   ]
  },
  {
   "cell_type": "code",
   "execution_count": 28,
   "id": "4659469f",
   "metadata": {},
   "outputs": [
    {
     "name": "stdout",
     "output_type": "stream",
     "text": [
      "Jelly Belly-10\n",
      "Kit Kat-20\n",
      "Double Bubble-34\n",
      "Milky Way-74\n",
      "Three Musketeers-32\n"
     ]
    }
   ],
   "source": [
    "candy_list = ['Jelly Belly','Kit Kat','Double Bubble','Milky Way','Three Musketeers']\n",
    "no_of_items = [10,20,34,74,32]\n",
    "for i in range(max(len(candy_list),len(no_of_items))):\n",
    "    print(candy_list[i],no_of_items[i],sep='-')\n",
    "    \n",
    "\n",
    "\n"
   ]
  },
  {
   "cell_type": "code",
   "execution_count": 31,
   "id": "d5c48a6d",
   "metadata": {},
   "outputs": [
    {
     "name": "stdout",
     "output_type": "stream",
     "text": [
      "[1, 3, 6, 10, 15, 21]\n"
     ]
    }
   ],
   "source": [
    "list1 = [1,2,3,4,5,6]\n",
    "res=[]\n",
    "sum=0\n",
    "for i in list1:\n",
    "    sum+=i\n",
    "    res.append(sum)\n",
    "print(res)    "
   ]
  },
  {
   "cell_type": "code",
   "execution_count": 62,
   "id": "edef7b53",
   "metadata": {},
   "outputs": [
    {
     "name": "stdout",
     "output_type": "stream",
     "text": [
      "[3]\n"
     ]
    }
   ],
   "source": [
    "lists=[1,2,3]\n",
    "list1=[12,21,23,22,11,3,5,55,34,65,75,45]\n",
    "res=[]\n",
    "for i in lists:\n",
    "    for j in list1:\n",
    "        if i==j:\n",
    "            res.append(i)\n",
    "print(res)            "
   ]
  },
  {
   "cell_type": "code",
   "execution_count": 7,
   "id": "92b8f608",
   "metadata": {},
   "outputs": [
    {
     "name": "stdout",
     "output_type": "stream",
     "text": [
      "['CampusX', 'is', 'a', 'channel', 'for', 'data-science', 'aspirants.']\n"
     ]
    }
   ],
   "source": [
    "l=['CampusX is a channel', 'for data-science', 'aspirants.']\n",
    "res=[]\n",
    "for i in l:\n",
    "    word=i.split(' ')\n",
    "    res.extend(word)\n",
    "print(res)    "
   ]
  },
  {
   "cell_type": "code",
   "execution_count": 30,
   "id": "1641650a",
   "metadata": {},
   "outputs": [
    {
     "name": "stdout",
     "output_type": "stream",
     "text": [
      "campux is best channel "
     ]
    }
   ],
   "source": [
    "l=[['c', 'a', 'm', 'p', 'u', 'x'], ['i', 's'], ['b', 'e', 's', 't'], ['c', 'h', 'a', 'n', 'n', 'e', 'l']]\n",
    "\n",
    "for i in l:\n",
    "    word=''.join(i)\n",
    "    print(word,end=' ')"
   ]
  },
  {
   "cell_type": "code",
   "execution_count": 43,
   "id": "cb36d2c0",
   "metadata": {},
   "outputs": [
    {
     "name": "stdout",
     "output_type": "stream",
     "text": [
      "campux\n"
     ]
    }
   ],
   "source": [
    "matrix = ['c', 'a', 'm', 'p', 'u', 'x']\n",
    "output_string = ''.join(''.join(row) for row in matrix)\n",
    "\n",
    "print(output_string)\n"
   ]
  },
  {
   "cell_type": "code",
   "execution_count": 1,
   "id": "5615494f",
   "metadata": {},
   "outputs": [
    {
     "name": "stdout",
     "output_type": "stream",
     "text": [
      "[1, 2, 3, 4, 5, 7, 8]\n"
     ]
    }
   ],
   "source": [
    "list1=[1,2,3,4,5,1]\n",
    "list2=[2,3,5,7,8]\n",
    "res=set(list1+list2)\n",
    "lis=list(res)\n",
    "print(lis)"
   ]
  },
  {
   "cell_type": "code",
   "execution_count": 5,
   "id": "91f9816a",
   "metadata": {},
   "outputs": [
    {
     "name": "stdout",
     "output_type": "stream",
     "text": [
      "[3, 6, 9]\n"
     ]
    }
   ],
   "source": [
    "list1=[[1,2,3],[4,5,6],[7,8,9]]\n",
    "maximum=[max(i) for i in list1]\n",
    "print(maximum)    "
   ]
  },
  {
   "cell_type": "code",
   "execution_count": 6,
   "id": "247f68b3",
   "metadata": {},
   "outputs": [
    {
     "name": "stdout",
     "output_type": "stream",
     "text": [
      "[1, 2, 3, 4, 5]\n"
     ]
    }
   ],
   "source": [
    "def unique(lis):\n",
    "    lists=[]\n",
    "    for i in lis:\n",
    "        if i not in lists:\n",
    "            lists.append(i)\n",
    "    return lists        \n",
    "print(unique(lis=[1,2,3,3,3,3,4,5]))"
   ]
  },
  {
   "cell_type": "code",
   "execution_count": 2,
   "id": "14a4640e",
   "metadata": {},
   "outputs": [
    {
     "name": "stdout",
     "output_type": "stream",
     "text": [
      "['black', 'green', 'red', 'white', 'yellow']\n"
     ]
    }
   ],
   "source": [
    "def sorting(string):\n",
    "    words=string.split('-')\n",
    "    x=sorted(words)\n",
    "    join='-'.join(x)\n",
    "    return x\n",
    "str='green-red-yellow-black-white'   \n",
    "print(sorting(str))    "
   ]
  },
  {
   "cell_type": "code",
   "execution_count": 1,
   "id": "d0bdc03e",
   "metadata": {},
   "outputs": [
    {
     "name": "stdout",
     "output_type": "stream",
     "text": [
      "['black', 'green', 'red', 'white', 'yellow']\n"
     ]
    }
   ],
   "source": [
    "def sort_words(input_sequence):\n",
    "    # Split the input sequence into a list of words\n",
    "    words = input_sequence.split('-')\n",
    "\n",
    "    # Sort the list of words alphabetically\n",
    "    sorted_words = sorted(words)\n",
    "\n",
    "    # Join the sorted words into a hyphen-separated sequence\n",
    "    result_sequence = '-'.join(sorted_words)\n",
    "\n",
    "    return sorted_words\n",
    "\n",
    "# Example usage:\n",
    "input_sequence = \"green-red-yellow-black-white\"\n",
    "output_sequence = sort_words(input_sequence)\n",
    "print(output_sequence)\n"
   ]
  },
  {
   "cell_type": "code",
   "execution_count": 46,
   "id": "787ad5d5",
   "metadata": {},
   "outputs": [
    {
     "name": "stdout",
     "output_type": "stream",
     "text": [
      "19\n",
      "70\n"
     ]
    }
   ],
   "source": [
    "string='CampusX is an Online Mentorship Program fOr EnginEering studentS. Which is beSt foR alL yoU muSt waTcH TheM'\n",
    "uppercase=0\n",
    "lowercase=0\n",
    "for i in string:\n",
    "    if i.isupper():\n",
    "        uppercase+=1\n",
    "    elif i.islower():\n",
    "        lowercase+=1\n",
    "    else:\n",
    "        None\n",
    "print(uppercase)\n",
    "print(lowercase)"
   ]
  },
  {
   "cell_type": "code",
   "execution_count": 47,
   "id": "2984a3f6",
   "metadata": {},
   "outputs": [
    {
     "name": "stdout",
     "output_type": "stream",
     "text": [
      "[2, 4, 6, 8]\n"
     ]
    }
   ],
   "source": [
    "def Even(lis):\n",
    "    lists=[i for i in lis if i %2==0]\n",
    "    return lists\n",
    "list=[1, 2, 3, 4, 5, 6, 7, 8, 9]\n",
    "print(Even(list))"
   ]
  },
  {
   "cell_type": "code",
   "execution_count": 53,
   "id": "080d1c73",
   "metadata": {},
   "outputs": [
    {
     "name": "stdout",
     "output_type": "stream",
     "text": [
      "enter any number  6\n",
      "perfect number \n"
     ]
    }
   ],
   "source": [
    "def perfect_number(n):\n",
    "    sum=0\n",
    "    for i in range(1,n):\n",
    "        if n%i==0:\n",
    "            sum+=i\n",
    "    if sum==n:\n",
    "        return 'perfect number '\n",
    "    else:\n",
    "        return 'not perfect '\n",
    "            \n",
    "num=int(input(\"enter any number  \"))\n",
    "print(perfect_number(num))           "
   ]
  },
  {
   "cell_type": "code",
   "execution_count": 7,
   "id": "285bb6c3",
   "metadata": {},
   "outputs": [
    {
     "name": "stdout",
     "output_type": "stream",
     "text": [
      "{1: 10, 2: 20, 3: 30, 4: 40, 5: 50, 6: 60}\n"
     ]
    }
   ],
   "source": [
    "def con(dic1,dic2,dic3):\n",
    "    res= {**dic1,**dic2,**dic3}\n",
    "    return res\n",
    "dic1={1:10, 2:20}\n",
    "dic2={3:30, 4:40}\n",
    "dic3={5:50,6:60}\n",
    "print(con(dic1,dic2,dic3))"
   ]
  },
  {
   "cell_type": "code",
   "execution_count": 3,
   "id": "d255ff2e",
   "metadata": {},
   "outputs": [
    {
     "name": "stdout",
     "output_type": "stream",
     "text": [
      "different\n"
     ]
    }
   ],
   "source": [
    "t=(1,2,3)\n",
    "t1=(1,3,3)\n",
    "if t == t1:\n",
    "    print(\"same\")\n",
    "else:\n",
    "    print(\"different\")"
   ]
  },
  {
   "cell_type": "code",
   "execution_count": 12,
   "id": "cc0d58f6",
   "metadata": {},
   "outputs": [
    {
     "name": "stdout",
     "output_type": "stream",
     "text": [
      "Jen Python\n",
      "Sarah C\n",
      "Edward Ruby\n",
      "Phil Python\n"
     ]
    }
   ],
   "source": [
    " favorite_languages = {\n",
    " 'jen': 'python',\n",
    " 'sarah': 'c',\n",
    " 'edward': 'ruby',\n",
    " 'phil': 'python',\n",
    " }\n",
    "for i,d in favorite_languages.items():\n",
    "    print(i.title(),d.title())"
   ]
  },
  {
   "cell_type": "code",
   "execution_count": 13,
   "id": "60391b8d",
   "metadata": {},
   "outputs": [
    {
     "name": "stdout",
     "output_type": "stream",
     "text": [
      "Jen\n",
      "Sarah\n",
      " Hi Sarah, I see your favorite language is C!\n",
      "Edward\n",
      "Phil\n",
      " Hi Phil, I see your favorite language is Python!\n"
     ]
    }
   ],
   "source": [
    "favorite_languages = {\n",
    " 'jen': 'python',\n",
    " 'sarah': 'c',\n",
    " 'edward': 'ruby',\n",
    " 'phil': 'python',\n",
    " }\n",
    "friends = ['phil', 'sarah']\n",
    "for name in favorite_languages.keys():\n",
    "    print(name.title())\n",
    "    if name in friends:\n",
    "        print(\" Hi \" + name.title() +\n",
    "        \", I see your favorite language is \" +\n",
    "        favorite_languages[name].title() + \"!\")"
   ]
  },
  {
   "cell_type": "code",
   "execution_count": 17,
   "id": "b8cc7003",
   "metadata": {},
   "outputs": [
    {
     "name": "stdout",
     "output_type": "stream",
     "text": [
      "dict_values(['python', 'c', 'ruby', 'python'])\n"
     ]
    }
   ],
   "source": [
    "favorite_languages = {\n",
    " 'jen': 'python',\n",
    " 'sarah': 'c',\n",
    " 'edward': 'ruby',\n",
    " 'phil': 'python',\n",
    " }\n",
    "print(favorite_languages.values())"
   ]
  },
  {
   "cell_type": "code",
   "execution_count": 20,
   "id": "1eda5efc",
   "metadata": {},
   "outputs": [
    {
     "name": "stdout",
     "output_type": "stream",
     "text": [
      "{'first': 'jimi', 'last': 'hendrix', 'age': 27}\n"
     ]
    }
   ],
   "source": [
    "def build_person(first_name, last_name, age=''):\n",
    " \"\"\"Return a dictionary of information about a person.\"\"\"\n",
    " person = {'first': first_name, 'last': last_name}\n",
    " if age:\n",
    "     person['age'] = age\n",
    " return person\n",
    "musician = build_person('jimi', 'hendrix', age=27)\n",
    "print(musician)"
   ]
  },
  {
   "cell_type": "code",
   "execution_count": null,
   "id": "130bf6c8",
   "metadata": {},
   "outputs": [
    {
     "name": "stdout",
     "output_type": "stream",
     "text": [
      "\n",
      "Please tell me your name:\n",
      "First name: sdfdsa\n",
      "Last name: gfh\n",
      "\n",
      "Please tell me your name:\n",
      "First name: fgdgdg\n",
      "Last name: hkfjgh\n",
      "\n",
      "Please tell me your name:\n"
     ]
    }
   ],
   "source": [
    "def get_formatted_name(first_name, last_name):\n",
    "    \"\"\"Return a full name, neatly formatted.\"\"\"\n",
    "    full_name = first_name + ' ' + last_name\n",
    "    return full_name.title()\n",
    "# This is an infinite loop!\n",
    "while True:\n",
    "     print(\"\\nPlease tell me your name:\")\n",
    "     f_name = input(\"First name: \")\n",
    "     l_name = input(\"Last name: \")\n",
    " \n",
    "formatted_name = get_formatted_name(f_name, l_name)\n",
    "print(\"\\nHello, \" + formatted_name + \"!\")"
   ]
  },
  {
   "cell_type": "code",
   "execution_count": 5,
   "id": "51f73842",
   "metadata": {},
   "outputs": [
    {
     "name": "stdout",
     "output_type": "stream",
     "text": [
      "[1, 2, 3, 4, 5]\n"
     ]
    }
   ],
   "source": [
    "def unique(lis):\n",
    "    uniques=[]\n",
    "    for i in lis:\n",
    "        if i not in uniques:\n",
    "            uniques.append(i)\n",
    "    return uniques\n",
    "    \n",
    "    \n",
    "list=[1,2,3,3,3,3,4,5]\n",
    "res=unique(list)\n",
    "print(res)\n"
   ]
  },
  {
   "cell_type": "code",
   "execution_count": 17,
   "id": "b7817435",
   "metadata": {},
   "outputs": [],
   "source": [
    "def histogram(list):\n",
    "    dict={}\n",
    "    for i in list:\n",
    "        \n",
    "    \n",
    "    \n",
    "    \n",
    "    \n",
    "    \n",
    "list=[13,42,15,37,22,39,41,50]\n",
    "histogram(list)"
   ]
  },
  {
   "cell_type": "code",
   "execution_count": 18,
   "id": "f16ca684",
   "metadata": {},
   "outputs": [
    {
     "data": {
      "image/png": "[encoded data removed]",
      "text/plain": [
       "<Figure size 640x480 with 1 Axes>"
      ]
     },
     "metadata": {},
     "output_type": "display_data"
    }
   ],
   "source": [
    "import matplotlib.pyplot as plt\n",
    "\n",
    "def plot_histogram(input_list):\n",
    "    # Step 1: Create a dictionary to store the histogram\n",
    "    histogram = {}\n",
    "\n",
    "    # Step 2: Iterate through the list of integers\n",
    "    for number in input_list:\n",
    "        # Step 3: Find the corresponding bin (range of 10)\n",
    "        bin_start = (number // 10) * 10\n",
    "        bin_end = bin_start + 9\n",
    "        bin_range = f\"{bin_start + 1}-{bin_end + 1}\"\n",
    "\n",
    "        # Step 4: Update the count in the histogram dictionary\n",
    "        if bin_range in histogram:\n",
    "            histogram[bin_range] += 1\n",
    "        else:\n",
    "            histogram[bin_range] = 1\n",
    "\n",
    "    # Convert histogram dictionary to lists for plotting\n",
    "    bins, counts = zip(*sorted(histogram.items()))\n",
    "\n",
    "    # Plot the histogram\n",
    "    plt.bar(bins, counts, align='center', alpha=0.7)\n",
    "    plt.xlabel('Bins')\n",
    "    plt.ylabel('Frequency')\n",
    "    plt.title('Histogram of Bins Size 10')\n",
    "    plt.show()\n",
    "\n",
    "# Example usage\n",
    "input_numbers = [13, 42, 15, 37, 22, 39, 41, 50]\n",
    "plot_histogram(input_numbers)\n"
   ]
  },
  {
   "cell_type": "code",
   "execution_count": 19,
   "id": "322b1b05",
   "metadata": {},
   "outputs": [
    {
     "data": {
      "image/png": "[encoded data removed]",
      "text/plain": [
       "<Figure size 640x480 with 1 Axes>"
      ]
     },
     "metadata": {},
     "output_type": "display_data"
    }
   ],
   "source": [
    "input_numbers = [13, 42, 15, 37, 22, 39, 41, 50, 65, 78, 80, 92, 105, 112, 120]\n",
    "plot_histogram(input_numbers)\n"
   ]
  },
  {
   "cell_type": "code",
   "execution_count": 31,
   "id": "a9f79f29",
   "metadata": {},
   "outputs": [
    {
     "name": "stdout",
     "output_type": "stream",
     "text": [
      "11-20\n",
      "41-50\n",
      "11-20\n",
      "31-40\n",
      "21-30\n",
      "31-40\n",
      "41-50\n",
      "51-60\n",
      "{'11-20': 2, '41-50': 2, '31-40': 2, '21-30': 1, '51-60': 1}\n"
     ]
    }
   ],
   "source": []
  },
  {
   "cell_type": "code",
   "execution_count": 3,
   "id": "ee74c238",
   "metadata": {},
   "outputs": [
    {
     "name": "stdout",
     "output_type": "stream",
     "text": [
      "Withdrawn 700 ₹ successfully.\n",
      "Deposited 1000 ₹ successfully.\n",
      "Bank fees (5% of the balance) applied. Fee amount: 155.0 ₹.\n",
      "Account Number :  2178514584\n",
      "Account Name :  Mandy\n",
      "Account Balance :  2945.0 ₹\n"
     ]
    }
   ],
   "source": [
    "class BankAccount:\n",
    "    def\n",
    "\n",
    "newAccount = BankAccount(2178514584, \"Mandy\", 2800)\n",
    "newAccount.Withdrawal(700)\n",
    "newAccount.Deposit(1000)\n",
    "newAccount.bankFees()\n",
    "newAccount.display()\n"
   ]
  },
  {
   "cell_type": "code",
   "execution_count": 15,
   "id": "00a1872a",
   "metadata": {},
   "outputs": [
    {
     "ename": "TypeError",
     "evalue": "open() got an unexpected keyword argument 'file'",
     "output_type": "error",
     "traceback": [
      "\u001b[1;31m---------------------------------------------------------------------------\u001b[0m",
      "\u001b[1;31mTypeError\u001b[0m                                 Traceback (most recent call last)",
      "Cell \u001b[1;32mIn[15], line 7\u001b[0m\n\u001b[0;32m      5\u001b[0m root\u001b[38;5;241m.\u001b[39mgeometry(\u001b[38;5;124m'\u001b[39m\u001b[38;5;124m350x500\u001b[39m\u001b[38;5;124m'\u001b[39m)\n\u001b[0;32m      6\u001b[0m root\u001b[38;5;241m.\u001b[39mconfigure(background\u001b[38;5;241m=\u001b[39m\u001b[38;5;124m'\u001b[39m\u001b[38;5;124m#0096DC\u001b[39m\u001b[38;5;124m'\u001b[39m)\n\u001b[1;32m----> 7\u001b[0m img\u001b[38;5;241m=\u001b[39mImageTk\u001b[38;5;241m.\u001b[39mPhotoImage(\u001b[43mImage\u001b[49m\u001b[38;5;241;43m.\u001b[39;49m\u001b[43mopen\u001b[49m\u001b[43m(\u001b[49m\u001b[43mfile\u001b[49m\u001b[38;5;241;43m=\u001b[39;49m\u001b[38;5;124;43m'\u001b[39;49m\u001b[38;5;124;43micon.png\u001b[39;49m\u001b[38;5;124;43m'\u001b[39;49m\u001b[43m)\u001b[49m)\n\u001b[0;32m      8\u001b[0m img_label\u001b[38;5;241m=\u001b[39mlabel(root,image\u001b[38;5;241m=\u001b[39mimg)\n\u001b[0;32m      9\u001b[0m img_label\u001b[38;5;241m.\u001b[39mpack()\n",
      "\u001b[1;31mTypeError\u001b[0m: open() got an unexpected keyword argument 'file'"
     ]
    }
   ],
   "source": [
    "from tkinter import *\n",
    "from PIL import ImageTk,Image\n",
    "root=Tk()\n",
    "root.title(\"Login Form\")\n",
    "root.geometry('350x500')\n",
    "root.configure(background='#0096DC')\n",
    "img=ImageTk.PhotoImage(Image.open(file='icon.png'))\n",
    "img_label=label(root,image=img)\n",
    "img_label.pack()\n",
    "root.mainloop()"
   ]
  },
  {
   "cell_type": "code",
   "execution_count": 21,
   "id": "7011c80e",
   "metadata": {},
   "outputs": [],
   "source": [
    "from tkinter import *\n",
    "\n",
    "def calculate():\n",
    "    temp = int(entry.get())\n",
    "    temp = 9/5 * temp + 32\n",
    "    output_label.configure(text='Converted: {:.1f}'.format(temp))\n",
    "\n",
    "# Use Entry instead of entry to avoid naming conflict with the entry widget\n",
    "root = Tk()\n",
    "message_label = Label(text='Enter a temperature', font=('Verdana', 16))\n",
    "output_label = Label(font=('Verdana', 16))\n",
    "entry = Entry(font=('Verdana', 16), width=4)\n",
    "calc_button = Button(text='Ok', font=('Verdana', 16), command=calculate)\n",
    "\n",
    "message_label.grid(row=0, column=0)\n",
    "entry.grid(row=0, column=1)\n",
    "calc_button.grid(row=0, column=2)\n",
    "output_label.grid(row=1, column=0, columnspan=3)\n",
    "\n",
    "mainloop()\n"
   ]
  },
  {
   "cell_type": "code",
   "execution_count": null,
   "id": "545428a2",
   "metadata": {},
   "outputs": [],
   "source": []
  },
  {
   "cell_type": "code",
   "execution_count": null,
   "id": "5f32d351",
   "metadata": {},
   "outputs": [],
   "source": []
  }
 ],
 "metadata": {
  "kernelspec": {
   "display_name": "Python 3 (ipykernel)",
   "language": "python",
   "name": "python3"
  },
  "language_info": {
   "codemirror_mode": {
    "name": "ipython",
    "version": 3
   },
   "file_extension": ".py",
   "mimetype": "text/x-python",
   "name": "python",
   "nbconvert_exporter": "python",
   "pygments_lexer": "ipython3",
   "version": "3.11.5"
  }
 },
 "nbformat": 4,
 "nbformat_minor": 5
}
