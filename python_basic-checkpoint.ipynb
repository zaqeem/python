{
 "cells": [
  {
   "cell_type": "code",
   "execution_count": 1,
   "id": "caadad0b",
   "metadata": {},
   "outputs": [],
   "source": [
    "# if numbers which is pass to func is even then show less no at them and if odds show greater or any one is odd \n",
    "\n",
    "def lesser_of_two_even(a,b):\n",
    "    if a%2==0 and b%2==0:\n",
    "        return min(a,b)\n",
    "    else:\n",
    "        return max(a,b)\n",
    "    "
   ]
  },
  {
   "cell_type": "code",
   "execution_count": 2,
   "id": "7ac92442",
   "metadata": {},
   "outputs": [
    {
     "data": {
      "text/plain": [
       "2"
      ]
     },
     "execution_count": 2,
     "metadata": {},
     "output_type": "execute_result"
    }
   ],
   "source": [
    "lesser_of_two_even(2,4)"
   ]
  },
  {
   "cell_type": "code",
   "execution_count": 3,
   "id": "fc3ec73f",
   "metadata": {},
   "outputs": [
    {
     "data": {
      "text/plain": [
       "3"
      ]
     },
     "execution_count": 3,
     "metadata": {},
     "output_type": "execute_result"
    }
   ],
   "source": [
    "lesser_of_two_even(2,3)"
   ]
  },
  {
   "cell_type": "code",
   "execution_count": 4,
   "id": "b3823572",
   "metadata": {},
   "outputs": [
    {
     "data": {
      "text/plain": [
       "5"
      ]
     },
     "execution_count": 4,
     "metadata": {},
     "output_type": "execute_result"
    }
   ],
   "source": [
    "lesser_of_two_even(5,4)"
   ]
  },
  {
   "cell_type": "code",
   "execution_count": 5,
   "id": "a7e1a83f",
   "metadata": {},
   "outputs": [
    {
     "data": {
      "text/plain": [
       "9"
      ]
     },
     "execution_count": 5,
     "metadata": {},
     "output_type": "execute_result"
    }
   ],
   "source": [
    "lesser_of_two_even(7,9)"
   ]
  },
  {
   "cell_type": "code",
   "execution_count": 6,
   "id": "96f9b871",
   "metadata": {},
   "outputs": [
    {
     "data": {
      "text/plain": [
       "True"
      ]
     },
     "execution_count": 6,
     "metadata": {},
     "output_type": "execute_result"
    }
   ],
   "source": [
    "#print true when first letter of both word is same\n",
    "def animal_cracker(text):\n",
    "    word=text.lower().split()\n",
    "    return word[0][0]==word[1][0]\n",
    "animal_cracker('word Wothing')"
   ]
  },
  {
   "cell_type": "code",
   "execution_count": 7,
   "id": "7014b877",
   "metadata": {},
   "outputs": [
    {
     "data": {
      "text/plain": [
       "True"
      ]
     },
     "execution_count": 7,
     "metadata": {},
     "output_type": "execute_result"
    }
   ],
   "source": [
    "def check_twenty(n1,n2):\n",
    "    return (n1+n2)==20 or n1==20 or n2==20\n",
    "check_twenty(10,10)"
   ]
  },
  {
   "cell_type": "code",
   "execution_count": 8,
   "id": "0487c01a",
   "metadata": {},
   "outputs": [
    {
     "data": {
      "text/plain": [
       "'Programmer a am I'"
      ]
     },
     "execution_count": 8,
     "metadata": {},
     "output_type": "execute_result"
    }
   ],
   "source": [
    "def reverse_word(text):\n",
    "    word=text.split()\n",
    "    \n",
    "    return ' '.join(word[::-1])\n",
    "reverse_word(\"I am a Programmer\")"
   ]
  },
  {
   "cell_type": "code",
   "execution_count": 9,
   "id": "b214d846",
   "metadata": {},
   "outputs": [
    {
     "data": {
      "text/plain": [
       "True"
      ]
     },
     "execution_count": 9,
     "metadata": {},
     "output_type": "execute_result"
    }
   ],
   "source": [
    "def has_33(*num):\n",
    "  \n",
    "        return  any(num[i]==3 and num[i+1]==3   for i in range(0,len(num)-1) )\n",
    "         \n",
    "has_33(2,3,3)"
   ]
  },
  {
   "cell_type": "code",
   "execution_count": 10,
   "id": "6459aef6",
   "metadata": {},
   "outputs": [],
   "source": [
    "def paper_doll(word):\n",
    "    res=''\n",
    "    for i in word:\n",
    "        res+=i*3\n",
    "    return res"
   ]
  },
  {
   "cell_type": "code",
   "execution_count": 11,
   "id": "720bc279",
   "metadata": {},
   "outputs": [
    {
     "data": {
      "text/plain": [
       "'rrraaaeeeeeesss'"
      ]
     },
     "execution_count": 11,
     "metadata": {},
     "output_type": "execute_result"
    }
   ],
   "source": [
    "paper_doll(\"raees\")"
   ]
  },
  {
   "cell_type": "code",
   "execution_count": 12,
   "id": "d7ce58ba",
   "metadata": {},
   "outputs": [
    {
     "data": {
      "text/plain": [
       "'BUST'"
      ]
     },
     "execution_count": 12,
     "metadata": {},
     "output_type": "execute_result"
    }
   ],
   "source": [
    "def back_jack(a,b,c):\n",
    "    if sum([a,b,c])<=21:\n",
    "        return sum([a,b,c])\n",
    "    elif 11 in (a,b,c) and sum([a,b,c])>13:\n",
    "        return sum([a,b,c]) -10\n",
    "    else:\n",
    "        return \"BUST\"\n",
    "\n",
    "back_jack(12,13,5)\n"
   ]
  },
  {
   "cell_type": "code",
   "execution_count": 13,
   "id": "880b7e52",
   "metadata": {},
   "outputs": [
    {
     "data": {
      "text/plain": [
       "10"
      ]
     },
     "execution_count": 13,
     "metadata": {},
     "output_type": "execute_result"
    }
   ],
   "source": [
    "back_jack(2,3,5)"
   ]
  },
  {
   "cell_type": "code",
   "execution_count": 14,
   "id": "2a03dd3e",
   "metadata": {},
   "outputs": [
    {
     "data": {
      "text/plain": [
       "12"
      ]
     },
     "execution_count": 14,
     "metadata": {},
     "output_type": "execute_result"
    }
   ],
   "source": [
    "\n",
    "back_jack(11,10,1)\n"
   ]
  },
  {
   "cell_type": "code",
   "execution_count": 15,
   "id": "56bd9050",
   "metadata": {},
   "outputs": [],
   "source": [
    "def game(num):\n",
    "    res=[0,0,7,'5']\n",
    "    for i in num:\n",
    "        if i==res[0]:\n",
    "            res.pop(0)\n",
    "    return len(res) == 1"
   ]
  },
  {
   "cell_type": "code",
   "execution_count": 16,
   "id": "6949c6ed",
   "metadata": {},
   "outputs": [],
   "source": [
    "result=game([2,4,3,0,0,5,6,7])"
   ]
  },
  {
   "cell_type": "code",
   "execution_count": 17,
   "id": "3011c2b4",
   "metadata": {},
   "outputs": [
    {
     "name": "stdout",
     "output_type": "stream",
     "text": [
      "True\n"
     ]
    }
   ],
   "source": [
    "print(result)"
   ]
  },
  {
   "cell_type": "code",
   "execution_count": 18,
   "id": "97c7fd49",
   "metadata": {},
   "outputs": [],
   "source": [
    "def check(no,low,high):\n",
    "    if no in range(low,high):\n",
    "        return True"
   ]
  },
  {
   "cell_type": "code",
   "execution_count": 19,
   "id": "aec19462",
   "metadata": {},
   "outputs": [
    {
     "data": {
      "text/plain": [
       "True"
      ]
     },
     "execution_count": 19,
     "metadata": {},
     "output_type": "execute_result"
    }
   ],
   "source": [
    "check(23,21,27)"
   ]
  },
  {
   "cell_type": "code",
   "execution_count": 20,
   "id": "10eaa618",
   "metadata": {},
   "outputs": [],
   "source": [
    "def up_low(s):\n",
    "    Lower=0\n",
    "    Upper=0\n",
    "    for i in s:\n",
    "        if i.isupper():\n",
    "            Upper+=1\n",
    "        elif i.islower():\n",
    "            Lower+=1\n",
    "        else:\n",
    "            pass\n",
    "    \n",
    "    print(\"original string is\",s)\n",
    "    print(\"upper is \",Upper)\n",
    "    print(\"lower is \",Lower)"
   ]
  },
  {
   "cell_type": "code",
   "execution_count": 21,
   "id": "73fd35e0",
   "metadata": {},
   "outputs": [
    {
     "name": "stdout",
     "output_type": "stream",
     "text": [
      "original string is Hi Raees How Are You i thiNk you aare gOod\n",
      "upper is  7\n",
      "lower is  26\n"
     ]
    }
   ],
   "source": [
    "s=\"Hi Raees How Are You i thiNk you aare gOod\"\n",
    "up_low(s)"
   ]
  },
  {
   "cell_type": "code",
   "execution_count": 22,
   "id": "8a68348c",
   "metadata": {},
   "outputs": [],
   "source": [
    "def finder(num):\n",
    "    lis=[]\n",
    "    for i in num:\n",
    "        if i not in lis:\n",
    "            lis.append(i)\n",
    "    return lis"
   ]
  },
  {
   "cell_type": "code",
   "execution_count": 23,
   "id": "16cd81a0",
   "metadata": {},
   "outputs": [
    {
     "data": {
      "text/plain": [
       "[1, 2, 7, 4, 9, 8, 6, 3, 5]"
      ]
     },
     "execution_count": 23,
     "metadata": {},
     "output_type": "execute_result"
    }
   ],
   "source": [
    "list=[1,2,7,4,1,9,8,6,3,2,9,7,5,6,2,4,8,5,6,3,4,5,8,9,3,7]\n",
    "finder(list)"
   ]
  },
  {
   "cell_type": "code",
   "execution_count": 24,
   "id": "fd873e25",
   "metadata": {},
   "outputs": [],
   "source": [
    "def display_board(board):\n",
    "    print('   |   |   ')\n",
    "    print(' '+board[7]+' | '+board[8]+' | '+board[9])\n",
    "    print('   |   |   ')\n",
    "    print('-----------')\n",
    "    print('   |   |   ')\n",
    "    print(' '+board[4]+' | '+board[5]+' | '+board[6])\n",
    "    print('   |   |   ')\n",
    "    print('-----------')\n",
    "    print('   |   |   ')\n",
    "    print(' '+board[1]+' | '+board[2]+' | '+board[3])\n",
    "    print('   |   |   ')\n"
   ]
  },
  {
   "cell_type": "code",
   "execution_count": 25,
   "id": "027f4d91",
   "metadata": {},
   "outputs": [
    {
     "name": "stdout",
     "output_type": "stream",
     "text": [
      "   |   |   \n",
      " 0 | X | 0\n",
      "   |   |   \n",
      "-----------\n",
      "   |   |   \n",
      " X | 0 | X\n",
      "   |   |   \n",
      "-----------\n",
      "   |   |   \n",
      " 0 | X | 0\n",
      "   |   |   \n"
     ]
    }
   ],
   "source": [
    "test_board=['#','0','X','0','X','0','X','0','X','0']\n",
    "display_board(test_board)"
   ]
  },
  {
   "cell_type": "code",
   "execution_count": 41,
   "id": "65c5f0ff",
   "metadata": {},
   "outputs": [],
   "source": [
    "def player_input():\n",
    "    marker=''\n",
    "    while not (marker =='X' or marker=='O'):\n",
    "        marker=input(\"Player1: choose X or O,  \").upper()\n",
    "        if marker=='X':\n",
    "            return ('X','O')\n",
    "        else:\n",
    "            return('O','X')"
   ]
  },
  {
   "cell_type": "code",
   "execution_count": 42,
   "id": "b57de435",
   "metadata": {},
   "outputs": [
    {
     "name": "stdout",
     "output_type": "stream",
     "text": [
      "Player1: choose X or O,  o\n"
     ]
    }
   ],
   "source": [
    "player1,player2=player_input()"
   ]
  },
  {
   "cell_type": "code",
   "execution_count": 43,
   "id": "95d2257b",
   "metadata": {},
   "outputs": [
    {
     "data": {
      "text/plain": [
       "'X'"
      ]
     },
     "execution_count": 43,
     "metadata": {},
     "output_type": "execute_result"
    }
   ],
   "source": [
    "player2"
   ]
  },
  {
   "cell_type": "code",
   "execution_count": 44,
   "id": "b658545b",
   "metadata": {},
   "outputs": [],
   "source": [
    "def place_marker(board,mark,position):\n",
    " board[position]=mark\n",
    "  "
   ]
  },
  {
   "cell_type": "code",
   "execution_count": 45,
   "id": "7372017e",
   "metadata": {},
   "outputs": [],
   "source": [
    "place_marker(test_board,'$',8)"
   ]
  },
  {
   "cell_type": "code",
   "execution_count": 46,
   "id": "674d1d7f",
   "metadata": {},
   "outputs": [
    {
     "name": "stdout",
     "output_type": "stream",
     "text": [
      "   |   |   \n",
      " 0 | $ | 0\n",
      "   |   |   \n",
      "-----------\n",
      "   |   |   \n",
      " X | 0 | X\n",
      "   |   |   \n",
      "-----------\n",
      "   |   |   \n",
      " 0 | X | 0\n",
      "   |   |   \n"
     ]
    }
   ],
   "source": [
    "display_board(test_board)"
   ]
  },
  {
   "cell_type": "code",
   "execution_count": 50,
   "id": "8fecf78c",
   "metadata": {},
   "outputs": [],
   "source": [
    "def check_win(board,mark):\n",
    "    return ((board[7]== mark and board[8]== mark and board[9]== mark) or\n",
    "            (board[4]== mark and board[5]== mark and board[6]== mark) or\n",
    "            (board[1]== mark and board[2]== mark and board[3]== mark) or\n",
    "            (board[7]== mark and board[4]== mark and board[1]== mark) or\n",
    "            (board[8]== mark and board[5]== mark and board[2]== mark) or\n",
    "            (board[9]== mark and board[6]== mark and board[3]== mark) or\n",
    "            (board[7]== mark and board[5]== mark and board[3]== mark) or\n",
    "            (board[9]== mark and board[5]== mark and board[1]== mark)\n",
    "           )"
   ]
  },
  {
   "cell_type": "code",
   "execution_count": 53,
   "id": "33716495",
   "metadata": {},
   "outputs": [
    {
     "name": "stdout",
     "output_type": "stream",
     "text": [
      "   |   |   \n",
      " 0 | $ | 0\n",
      "   |   |   \n",
      "-----------\n",
      "   |   |   \n",
      " X | 0 | X\n",
      "   |   |   \n",
      "-----------\n",
      "   |   |   \n",
      " 0 | X | 0\n",
      "   |   |   \n"
     ]
    },
    {
     "data": {
      "text/plain": [
       "False"
      ]
     },
     "execution_count": 53,
     "metadata": {},
     "output_type": "execute_result"
    }
   ],
   "source": [
    "display_board(test_board)\n",
    "check_win(test_board,player1)"
   ]
  },
  {
   "cell_type": "code",
   "execution_count": 52,
   "id": "2c1423c9",
   "metadata": {},
   "outputs": [
    {
     "data": {
      "text/plain": [
       "False"
      ]
     },
     "execution_count": 52,
     "metadata": {},
     "output_type": "execute_result"
    }
   ],
   "source": [
    "import random\n",
    "def choose_first():\n",
    "    flip=random.randint(0,1)\n",
    "    if flip==0:\n",
    "        return \"Player 1  \"\n",
    "    else:\n",
    "        return \"player 2  \""
   ]
  },
  {
   "cell_type": "code",
   "execution_count": null,
   "id": "3390f81e",
   "metadata": {},
   "outputs": [],
   "source": [
    "def space_check(board,position):\n",
    "    return board[position]==' '"
   ]
  },
  {
   "cell_type": "code",
   "execution_count": null,
   "id": "666dffe1",
   "metadata": {},
   "outputs": [],
   "source": [
    "def full_check(board)"
   ]
  }
 ],
 "metadata": {
  "kernelspec": {
   "display_name": "Python 3 (ipykernel)",
   "language": "python",
   "name": "python3"
  },
  "language_info": {
   "codemirror_mode": {
    "name": "ipython",
    "version": 3
   },
   "file_extension": ".py",
   "mimetype": "text/x-python",
   "name": "python",
   "nbconvert_exporter": "python",
   "pygments_lexer": "ipython3",
   "version": "3.10.9"
  }
 },
 "nbformat": 4,
 "nbformat_minor": 5
}
