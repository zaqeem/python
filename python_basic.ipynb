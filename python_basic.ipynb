{
 "cells": [
  {
   "cell_type": "code",
   "execution_count": 26,
   "id": "caadad0b",
   "metadata": {},
   "outputs": [],
   "source": [
    "# if numbers which is pass to func is even then show less no at them and if odds show greater or any one is odd \n",
    "\n",
    "def lesser_of_two_even(a,b):\n",
    "    if a%2==0 and b%2==0:\n",
    "        return min(a,b)\n",
    "    else:\n",
    "        return max(a,b)\n",
    "    "
   ]
  },
  {
   "cell_type": "code",
   "execution_count": 4,
   "id": "7ac92442",
   "metadata": {},
   "outputs": [
    {
     "data": {
      "text/plain": [
       "2"
      ]
     },
     "execution_count": 4,
     "metadata": {},
     "output_type": "execute_result"
    }
   ],
   "source": [
    "lesser_of_two_even(2,4)"
   ]
  },
  {
   "cell_type": "code",
   "execution_count": 5,
   "id": "fc3ec73f",
   "metadata": {},
   "outputs": [
    {
     "data": {
      "text/plain": [
       "3"
      ]
     },
     "execution_count": 5,
     "metadata": {},
     "output_type": "execute_result"
    }
   ],
   "source": [
    "lesser_of_two_even(2,3)"
   ]
  },
  {
   "cell_type": "code",
   "execution_count": 6,
   "id": "b3823572",
   "metadata": {},
   "outputs": [
    {
     "data": {
      "text/plain": [
       "5"
      ]
     },
     "execution_count": 6,
     "metadata": {},
     "output_type": "execute_result"
    }
   ],
   "source": [
    "lesser_of_two_even(5,4)"
   ]
  },
  {
   "cell_type": "code",
   "execution_count": 7,
   "id": "a7e1a83f",
   "metadata": {},
   "outputs": [
    {
     "data": {
      "text/plain": [
       "9"
      ]
     },
     "execution_count": 7,
     "metadata": {},
     "output_type": "execute_result"
    }
   ],
   "source": [
    "lesser_of_two_even(7,9)"
   ]
  },
  {
   "cell_type": "code",
   "execution_count": 20,
   "id": "96f9b871",
   "metadata": {},
   "outputs": [
    {
     "data": {
      "text/plain": [
       "True"
      ]
     },
     "execution_count": 20,
     "metadata": {},
     "output_type": "execute_result"
    }
   ],
   "source": [
    "#print true when first letter of both word is same\n",
    "def animal_cracker(text):\n",
    "    word=text.lower().split()\n",
    "    return word[0][0]==word[1][0]\n",
    "animal_cracker('word Wothing')"
   ]
  },
  {
   "cell_type": "code",
   "execution_count": 25,
   "id": "7014b877",
   "metadata": {},
   "outputs": [
    {
     "data": {
      "text/plain": [
       "True"
      ]
     },
     "execution_count": 25,
     "metadata": {},
     "output_type": "execute_result"
    }
   ],
   "source": [
    "def check_twenty(n1,n2):\n",
    "    return (n1+n2)==20 or n1==20 or n2==20\n",
    "check_twenty(10,10)"
   ]
  },
  {
   "cell_type": "code",
   "execution_count": 11,
   "id": "0487c01a",
   "metadata": {},
   "outputs": [
    {
     "data": {
      "text/plain": [
       "'Programmer a am I'"
      ]
     },
     "execution_count": 11,
     "metadata": {},
     "output_type": "execute_result"
    }
   ],
   "source": [
    "def reverse_word(text):\n",
    "    word=text.split()\n",
    "    \n",
    "    return ' '.join(word[::-1])\n",
    "reverse_word(\"I am a Programmer\")"
   ]
  },
  {
   "cell_type": "code",
   "execution_count": 58,
   "id": "b214d846",
   "metadata": {},
   "outputs": [
    {
     "data": {
      "text/plain": [
       "True"
      ]
     },
     "execution_count": 58,
     "metadata": {},
     "output_type": "execute_result"
    }
   ],
   "source": [
    "def has_33(*num):\n",
    "  \n",
    "        return  any(num[i]==3 and num[i+1]==3   for i in range(0,len(num)-1) )\n",
    "         \n",
    "has_33(2,3,3)"
   ]
  },
  {
   "cell_type": "code",
   "execution_count": 89,
   "id": "6459aef6",
   "metadata": {},
   "outputs": [],
   "source": [
    "def paper_doll(word):\n",
    "    res=''\n",
    "    for i in word:\n",
    "        res+=i*3\n",
    "    return res"
   ]
  },
  {
   "cell_type": "code",
   "execution_count": 90,
   "id": "720bc279",
   "metadata": {},
   "outputs": [
    {
     "data": {
      "text/plain": [
       "'rrraaaeeeeeesss'"
      ]
     },
     "execution_count": 90,
     "metadata": {},
     "output_type": "execute_result"
    }
   ],
   "source": [
    "paper_doll(\"raees\")"
   ]
  },
  {
   "cell_type": "code",
   "execution_count": 112,
   "id": "d7ce58ba",
   "metadata": {},
   "outputs": [
    {
     "data": {
      "text/plain": [
       "'BUST'"
      ]
     },
     "execution_count": 112,
     "metadata": {},
     "output_type": "execute_result"
    }
   ],
   "source": [
    "def back_jack(a,b,c):\n",
    "    if sum([a,b,c])<=21:\n",
    "        return sum([a,b,c])\n",
    "    elif 11 in (a,b,c) and sum([a,b,c])>13:\n",
    "        return sum([a,b,c]) -10\n",
    "    else:\n",
    "        return \"BUST\"\n",
    "\n",
    "back_jack(12,13,5)\n"
   ]
  },
  {
   "cell_type": "code",
   "execution_count": 113,
   "id": "880b7e52",
   "metadata": {},
   "outputs": [
    {
     "data": {
      "text/plain": [
       "10"
      ]
     },
     "execution_count": 113,
     "metadata": {},
     "output_type": "execute_result"
    }
   ],
   "source": [
    "back_jack(2,3,5)"
   ]
  },
  {
   "cell_type": "code",
   "execution_count": 116,
   "id": "2a03dd3e",
   "metadata": {},
   "outputs": [
    {
     "data": {
      "text/plain": [
       "12"
      ]
     },
     "execution_count": 116,
     "metadata": {},
     "output_type": "execute_result"
    }
   ],
   "source": [
    "\n",
    "back_jack(11,10,1)\n"
   ]
  },
  {
   "cell_type": "code",
   "execution_count": 39,
   "id": "56bd9050",
   "metadata": {},
   "outputs": [],
   "source": [
    "def game(num):\n",
    "    res=[0,0,7,'5']\n",
    "    for i in num:\n",
    "        if i==res[0]:\n",
    "            res.pop(0)\n",
    "    return len(res) == 1"
   ]
  },
  {
   "cell_type": "code",
   "execution_count": 40,
   "id": "6949c6ed",
   "metadata": {},
   "outputs": [],
   "source": [
    "result=game([2,4,3,0,0,5,6,7])"
   ]
  },
  {
   "cell_type": "code",
   "execution_count": 41,
   "id": "3011c2b4",
   "metadata": {},
   "outputs": [
    {
     "name": "stdout",
     "output_type": "stream",
     "text": [
      "True\n"
     ]
    }
   ],
   "source": [
    "print(result)"
   ]
  },
  {
   "cell_type": "code",
   "execution_count": 50,
   "id": "97c7fd49",
   "metadata": {},
   "outputs": [],
   "source": [
    "def check(no,low,high):\n",
    "    if no in range(low,high):\n",
    "        return True"
   ]
  },
  {
   "cell_type": "code",
   "execution_count": 51,
   "id": "82b8dd36",
   "metadata": {},
   "outputs": [
    {
     "data": {
      "text/plain": [
       "True"
      ]
     },
     "execution_count": 51,
     "metadata": {},
     "output_type": "execute_result"
    }
   ],
   "source": [
    "check(23,21,27)"
   ]
  },
  {
   "cell_type": "code",
   "execution_count": 102,
   "id": "a1378135",
   "metadata": {},
   "outputs": [],
   "source": [
    "def up_low(s):\n",
    "    Lower=0\n",
    "    Upper=0\n",
    "    for i in s:\n",
    "        if i.isupper():\n",
    "            Upper+=1\n",
    "        elif i.islower():\n",
    "            Lower+=1\n",
    "        else:\n",
    "            pass\n",
    "    \n",
    "    print(\"original string is\",s)\n",
    "    print(\"upper is \",Upper)\n",
    "    print(\"lower is \",Lower)"
   ]
  },
  {
   "cell_type": "code",
   "execution_count": 103,
   "id": "02c06f04",
   "metadata": {},
   "outputs": [
    {
     "name": "stdout",
     "output_type": "stream",
     "text": [
      "original string is Hi Raees How Are You i thiNk you aare gOod\n",
      "upper is  7\n",
      "lower is  26\n"
     ]
    }
   ],
   "source": [
    "s=\"Hi Raees How Are You i thiNk you aare gOod\"\n",
    "up_low(s)"
   ]
  },
  {
   "cell_type": "code",
   "execution_count": 150,
   "id": "8adddfaa",
   "metadata": {},
   "outputs": [],
   "source": [
    "def finder(num):\n",
    "    lis=[]\n",
    "    for i in num:\n",
    "        if i not in lis:\n",
    "            lis.append(i)\n",
    "    return lis"
   ]
  },
  {
   "cell_type": "code",
   "execution_count": 151,
   "id": "fdd21d6a",
   "metadata": {},
   "outputs": [
    {
     "data": {
      "text/plain": [
       "[1, 2, 7, 4, 9, 8, 6, 3, 5]"
      ]
     },
     "execution_count": 151,
     "metadata": {},
     "output_type": "execute_result"
    }
   ],
   "source": [
    "list=[1,2,7,4,1,9,8,6,3,2,9,7,5,6,2,4,8,5,6,3,4,5,8,9,3,7]\n",
    "finder(list)"
   ]
  },
  {
   "cell_type": "code",
   "execution_count": 279,
   "id": "ff2fce57",
   "metadata": {},
   "outputs": [],
   "source": [
    "def display_board(board):\n",
    "    print('   |   |')\n",
    "    print(' '+board[7]+' | '+board[8]+' | '+board[9])\n",
    "    print('   |   |   ')\n",
    "    print('-----------')\n",
    "    print('   |   |   ')\n",
    "      print('   |   |')\n",
    "    print(' '+board[7]+' | '+board[8]+' | '+board[9])\n",
    "    print('   |   |')\n",
    "    print('-----------')\n",
    "    print('   |   |')\n",
    "    print(' '+board[7]+' | '+board[8]+' | '+board[9])\n",
    "    print('   |   |')"
   ]
  },
  {
   "cell_type": "code",
   "execution_count": 278,
   "id": "cb0accc9",
   "metadata": {},
   "outputs": [
    {
     "name": "stdout",
     "output_type": "stream",
     "text": [
      "   |   |\n",
      " 0 | X | 0\n",
      "   |   |   \n",
      "-----------\n",
      "   |   |   \n",
      " 0 | X | 0\n",
      "-----------\n",
      "   |   |\n",
      " 0 | X | 0\n",
      "   |   |\n"
     ]
    }
   ],
   "source": [
    "test_board=['#','0','X','0','X','0','X','0','X','0']\n",
    "display_board(test_board)"
   ]
  },
  {
   "cell_type": "code",
   "execution_count": null,
   "id": "ee923eb6",
   "metadata": {},
   "outputs": [],
   "source": []
  },
  {
   "cell_type": "code",
   "execution_count": null,
   "id": "6483ed29",
   "metadata": {},
   "outputs": [],
   "source": []
  }
 ],
 "metadata": {
  "kernelspec": {
   "display_name": "Python 3 (ipykernel)",
   "language": "python",
   "name": "python3"
  },
  "language_info": {
   "codemirror_mode": {
    "name": "ipython",
    "version": 3
   },
   "file_extension": ".py",
   "mimetype": "text/x-python",
   "name": "python",
   "nbconvert_exporter": "python",
   "pygments_lexer": "ipython3",
   "version": "3.10.9"
  }
 },
 "nbformat": 4,
 "nbformat_minor": 5
}
